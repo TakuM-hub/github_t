{
 "cells": [
  {
   "cell_type": "markdown",
   "metadata": {},
   "source": [
    "**CAPSTONE** **PROJECT: BATTLE OF THE NEIGHBORHOODS**"
   ]
  },
  {
   "cell_type": "markdown",
   "metadata": {},
   "source": [
    "Tokyo Japana Cinemas and Expatriates location Recommendation"
   ]
  },
  {
   "cell_type": "markdown",
   "metadata": {},
   "source": [
    "I. **PURPOSE**\n",
    "\n",
    "This document provides the details of my final peer reviewed assignment for the IBM Data Science Professional Certificate program  "
   ]
  },
  {
   "cell_type": "markdown",
   "metadata": {},
   "source": [
    "**INTRODUCTION**\n",
    "\n",
    "The cinema of Japan (日本映画 Nihon eiga, also known domestically as 邦画 hōga, \"domestic cinema\") has a history that spans more than 100 years. Japan has one of the oldest and largest film industries in the world; as of 2010, it was the fourth largest by number of feature films produced. In 2011 Japan produced 411 feature films that earned 54.9% of a box office total of US$2.338 billion. Films have been produced in Japan since 1897, when the first foreign cameramen arrived\n",
    "\n",
    "The sample recommender in this notebook will provide the following use case scenario\n",
    "\n",
    "* A person planning to a new cinema.\n",
    "* The user wants to receive location recommendation where he can open or start up an  new cinema as a company's new business with close proximity to places of interest or search category option\n",
    "* The recommendation should not only present the most viable option, but also present a comparison table of all possible town location.\n",
    "\n",
    "For this demonstration, this notebook will make use of the following data:\n",
    "* list of cinemas in Tokyo.\n",
    "* Popular cinemas location in the vicinity. (Sample category selection)\n",
    "    \n",
    "Note: While this demo makes use of the list of cinemas location  Category, Other possible categories can also be used for the same implementation such as checking categories like:\n",
    "* Outdoors and Recreation\n",
    "* Nightlife\n",
    "* Nearby Schools, etc.\n",
    "            \n",
    "            \n",
    "I will limit the scope of this search as FourSquare API only allows 50 free venue query limit per day when using a free user access.            "
   ]
  },
  {
   "cell_type": "markdown",
   "metadata": {},
   "source": [
    "**DATA ACQUISITION**\n",
    "\n",
    "This demonstration will make use of the following data sources:\n",
    "\n",
    "A list of Tokyo cinema and cinemas' geographic coordinates .\n",
    "Data will retrieved from an open dataset from 'https://hkmovie6.com/cinema'. \n",
    "\n",
    "The original data source contains a list of Tokyo cinema and cinemas' geographic coordinates . I will retrieve  the most recent recordes  from this data source being the most relevant location data available at this time. For this demonstration, I will simplify the analysis by using the average rental prices of all available flat type.\n",
    "\n",
    "Tokyo cinema location data retrieved using Google maps API.\n",
    "Data coordinates of cinemas will be retrieved using google API. I also make use of MRT stations coordinate as a more important center of for all towns included in venue recommendations.\n",
    "\n",
    "Tokyo Cinema location Recommendations from FourSquare API\n",
    "(FourSquare website: www.foursquare.com)\n",
    "\n",
    "I will be using the FourSquare API to explore neighborhoods in selected cinemas in Tokyo. The Foursquare explore function will be used to get the most common cinemas categories in each location, and then use this feature to group the locations into clusters.  The following information are retrieved on the first query:\n",
    "* Venue ID\n",
    "* Venue Name\n",
    "* Coordinates : Latitude and Longitude\n",
    "* Category Name\n",
    "\n",
    "Another venue query will be performed to retrieve venue ratings for each location. Note that rating information is a paid service from FourSquare and we are limited to only 50 queries per day. With this constraint, we limit the category analysis with only one type for this demo. I will try to retrieve as many ratings as possible for each retrieved venue ID. "
   ]
  },
  {
   "cell_type": "markdown",
   "metadata": {},
   "source": [
    "**METHODOLOGY**\n",
    "\n",
    "A list of Tokyo cinema and cinemas' geographic coordinates.\n",
    "The source data contains  cinemas in Tokyo. I will retrive the most recent recordes  from this data source being the most relevant cinemas location available at this time. For this demonstration.\n",
    "**Data Cleanup and re-grouping.** The retrieved table contains some un-wanted entries and needs some cleanup.\n",
    "\n",
    "The following tasks will be performed:\n",
    "* Drop/ignore cells with missing data.\n",
    "* Use most current data record.\n",
    "* Fix data types."
   ]
  },
  {
   "cell_type": "markdown",
   "metadata": {},
   "source": [
    "**Importing Python Libraries**\n",
    "\n",
    "This section imports required python libraries for processing data. <br>\n",
    "While this first part of python notebook is for data acquisition, we will use some  of the libraries make some data visualization."
   ]
  },
  {
   "cell_type": "code",
   "execution_count": 1,
   "metadata": {},
   "outputs": [
    {
     "name": "stdout",
     "output_type": "stream",
     "text": [
      "Libraries imported.\n"
     ]
    }
   ],
   "source": [
    "import numpy as np # library to handle data in a vectorized manner\n",
    "\n",
    "import pandas as pd # library for data analsysis\n",
    "pd.set_option('display.max_columns', None)\n",
    "pd.set_option('display.max_rows', None)\n",
    "\n",
    "import json # library to handle JSON files\n",
    "\n",
    "\n",
    "import requests # library to handle requests\n",
    "from pandas.io.json import json_normalize # tranform JSON file into a pandas dataframe\n",
    "\n",
    "# Matplotlib and associated plotting modules\n",
    "import matplotlib.cm as cm\n",
    "import matplotlib.colors as colors\n",
    "\n",
    "# import k-means from clustering stage\n",
    "from sklearn.cluster import KMeans\n",
    "\n",
    "#!conda install -c conda-forge folium=0.5.0 --yes # uncomment this line if you haven't completed the Foursquare API lab\n",
    "import folium # map rendering library\n",
    "\n",
    "print('Libraries imported.')"
   ]
  },
  {
   "cell_type": "code",
   "execution_count": 18,
   "metadata": {},
   "outputs": [],
   "source": [
    "# Import necessary library\n",
    "import json\n",
    "import pandas as pd"
   ]
  },
  {
   "cell_type": "code",
   "execution_count": 19,
   "metadata": {},
   "outputs": [
    {
     "name": "stdout",
     "output_type": "stream",
     "text": [
      "--2019-10-01 20:39:29--  https://hkmovie6.com/api/cinemas/lists\n",
      "Resolving hkmovie6.com (hkmovie6.com)... 104.31.67.1, 104.31.66.1, 2606:4700:30::681f:4301, ...\n",
      "Connecting to hkmovie6.com (hkmovie6.com)|104.31.67.1|:443... connected.\n",
      "HTTP request sent, awaiting response... 200 OK\n",
      "Length: unspecified [application/json]\n",
      "Saving to: ‘hk_cinema_list.json’\n",
      "\n",
      "hk_cinema_list.json     [ <=>                ]  54.95K   316KB/s    in 0.2s    \n",
      "\n",
      "2019-10-01 20:39:30 (316 KB/s) - ‘hk_cinema_list.json’ saved [56269]\n",
      "\n"
     ]
    }
   ],
   "source": [
    "# Download the cinema list\n",
    "!wget -O hk_cinema_list.json https://hkmovie6.com/api/cinemas/lists"
   ]
  },
  {
   "cell_type": "code",
   "execution_count": 22,
   "metadata": {},
   "outputs": [],
   "source": [
    "# Convert the JSON data into DataFrame\n",
    "cinemas_json = None\n",
    "with open('hk_cinema_list.json', 'r', encoding='utf-8') as f:\n",
    "    cinemas_json = json.load(f)\n",
    "    \n",
    "cinemas = []\n",
    "for data in cinemas_json['data']:    \n",
    "    cinemas.append({\n",
    "        'Name': data['name'],\n",
    "        'ChiName': data['chiName'],\n",
    "        'Address': data['address']\n",
    "    })\n",
    "df_cinemas = pd.DataFrame(cinemas, columns=['Name','ChiName','Address','Latitude','Longitude'])"
   ]
  },
  {
   "cell_type": "code",
   "execution_count": 23,
   "metadata": {},
   "outputs": [
    {
     "name": "stdout",
     "output_type": "stream",
     "text": [
      "There are 72 cinemas in Tokyo\n"
     ]
    }
   ],
   "source": [
    "print('There are {} cinemas in Tokyo'.format(len(df_cinemas)))"
   ]
  },
  {
   "cell_type": "code",
   "execution_count": 4,
   "metadata": {},
   "outputs": [
    {
     "data": {
      "text/html": [
       "<div>\n",
       "<style scoped>\n",
       "    .dataframe tbody tr th:only-of-type {\n",
       "        vertical-align: middle;\n",
       "    }\n",
       "\n",
       "    .dataframe tbody tr th {\n",
       "        vertical-align: top;\n",
       "    }\n",
       "\n",
       "    .dataframe thead th {\n",
       "        text-align: right;\n",
       "    }\n",
       "</style>\n",
       "<table border=\"1\" class=\"dataframe\">\n",
       "  <thead>\n",
       "    <tr style=\"text-align: right;\">\n",
       "      <th></th>\n",
       "      <th>Name</th>\n",
       "      <th>ChiName</th>\n",
       "      <th>Address</th>\n",
       "      <th>Latitude</th>\n",
       "      <th>Longitude</th>\n",
       "    </tr>\n",
       "  </thead>\n",
       "  <tbody>\n",
       "    <tr>\n",
       "      <td>0</td>\n",
       "      <td>Emperor Cinemas - Entertainment Building</td>\n",
       "      <td>英皇戲院 - 娛樂行</td>\n",
       "      <td>3/F, Emperor Cinemas Entertainment Building, 3...</td>\n",
       "      <td>NaN</td>\n",
       "      <td>NaN</td>\n",
       "    </tr>\n",
       "    <tr>\n",
       "      <td>1</td>\n",
       "      <td>Emperor Cinemas - Ma On Shan</td>\n",
       "      <td>英皇戲院 - 馬鞍山新港城中心</td>\n",
       "      <td>L2, MOSTown, Sai Sha Road, Ma On Shan, N.T.</td>\n",
       "      <td>NaN</td>\n",
       "      <td>NaN</td>\n",
       "    </tr>\n",
       "    <tr>\n",
       "      <td>2</td>\n",
       "      <td>Emperor Cinemas - Tuen Mun</td>\n",
       "      <td>英皇戲院 - 屯門新都商場</td>\n",
       "      <td>3/F, New Town Commercial Arcade, 2 Tuen Lee St...</td>\n",
       "      <td>NaN</td>\n",
       "      <td>NaN</td>\n",
       "    </tr>\n",
       "    <tr>\n",
       "      <td>3</td>\n",
       "      <td>The Coronet @ Emperor Cinemas - Entertainment ...</td>\n",
       "      <td>The Coronet @ 英皇戲院 - 娛樂行</td>\n",
       "      <td>3/F, Emperor Cinemas Entertainment Building, 3...</td>\n",
       "      <td>NaN</td>\n",
       "      <td>NaN</td>\n",
       "    </tr>\n",
       "    <tr>\n",
       "      <td>4</td>\n",
       "      <td>Festival Grand Cinema</td>\n",
       "      <td>Festival Grand Cinema</td>\n",
       "      <td>Level UG, Festival Walk, 80 Tat Chee Avenue, K...</td>\n",
       "      <td>NaN</td>\n",
       "      <td>NaN</td>\n",
       "    </tr>\n",
       "  </tbody>\n",
       "</table>\n",
       "</div>"
      ],
      "text/plain": [
       "                                                Name  \\\n",
       "0           Emperor Cinemas - Entertainment Building   \n",
       "1                       Emperor Cinemas - Ma On Shan   \n",
       "2                         Emperor Cinemas - Tuen Mun   \n",
       "3  The Coronet @ Emperor Cinemas - Entertainment ...   \n",
       "4                              Festival Grand Cinema   \n",
       "\n",
       "                    ChiName  \\\n",
       "0                英皇戲院 - 娛樂行   \n",
       "1           英皇戲院 - 馬鞍山新港城中心   \n",
       "2             英皇戲院 - 屯門新都商場   \n",
       "3  The Coronet @ 英皇戲院 - 娛樂行   \n",
       "4     Festival Grand Cinema   \n",
       "\n",
       "                                             Address  Latitude  Longitude  \n",
       "0  3/F, Emperor Cinemas Entertainment Building, 3...       NaN        NaN  \n",
       "1        L2, MOSTown, Sai Sha Road, Ma On Shan, N.T.       NaN        NaN  \n",
       "2  3/F, New Town Commercial Arcade, 2 Tuen Lee St...       NaN        NaN  \n",
       "3  3/F, Emperor Cinemas Entertainment Building, 3...       NaN        NaN  \n",
       "4  Level UG, Festival Walk, 80 Tat Chee Avenue, K...       NaN        NaN  "
      ]
     },
     "execution_count": 4,
     "metadata": {},
     "output_type": "execute_result"
    }
   ],
   "source": [
    "df_cinemas.head()"
   ]
  },
  {
   "cell_type": "markdown",
   "metadata": {},
   "source": [
    " **Geographic coordinates of 5 possible cinema addresses**"
   ]
  },
  {
   "cell_type": "markdown",
   "metadata": {},
   "source": [
    "Geographic coordinates of 5 possible cinemas are required and I can use Google Map API to find this information"
   ]
  },
  {
   "cell_type": "code",
   "execution_count": 5,
   "metadata": {},
   "outputs": [],
   "source": [
    "possible_locations = [\n",
    "    { 'Location': 'L1', 'Address': 'Sau Mau Ping Shopping Centre, Sau Mau Ping'},\n",
    "    { 'Location': 'L2', 'Address': 'Tuen Mun Ferry, Tuen Mun'},\n",
    "    { 'Location': 'L3', 'Address': 'Un Chau Shopping Centre, Cheung Sha Wan'},\n",
    "    { 'Location': 'L4', 'Address': 'Prosperity Millennia Plaza, North Point'},\n",
    "    { 'Location': 'L5', 'Address': 'Tsuen Fung Centre Shopping Arcade, Tsuen Wan'},\n",
    "]"
   ]
  },
  {
   "cell_type": "code",
   "execution_count": 6,
   "metadata": {},
   "outputs": [
    {
     "name": "stdout",
     "output_type": "stream",
     "text": [
      "Collecting googlemaps\n",
      "  Downloading https://files.pythonhosted.org/packages/9b/33/b93685916130c07325645d06a765dae23f4655b7aeb79c8a96fe9f552e26/googlemaps-3.1.3-py3-none-any.whl\n",
      "Requirement already satisfied, skipping upgrade: requests<3.0,>=2.20.0 in /home/jupyterlab/conda/envs/python/lib/python3.6/site-packages (from googlemaps) (2.22.0)\n",
      "Requirement already satisfied, skipping upgrade: urllib3!=1.25.0,!=1.25.1,<1.26,>=1.21.1 in /home/jupyterlab/conda/envs/python/lib/python3.6/site-packages (from requests<3.0,>=2.20.0->googlemaps) (1.24.3)\n",
      "Requirement already satisfied, skipping upgrade: chardet<3.1.0,>=3.0.2 in /home/jupyterlab/conda/envs/python/lib/python3.6/site-packages (from requests<3.0,>=2.20.0->googlemaps) (3.0.4)\n",
      "Requirement already satisfied, skipping upgrade: idna<2.9,>=2.5 in /home/jupyterlab/conda/envs/python/lib/python3.6/site-packages (from requests<3.0,>=2.20.0->googlemaps) (2.8)\n",
      "Requirement already satisfied, skipping upgrade: certifi>=2017.4.17 in /home/jupyterlab/conda/envs/python/lib/python3.6/site-packages (from requests<3.0,>=2.20.0->googlemaps) (2019.6.16)\n",
      "Installing collected packages: googlemaps\n",
      "Successfully installed googlemaps-3.1.3\n"
     ]
    }
   ],
   "source": [
    "\n",
    "# install the google map api client library\n",
    "!pip install -U googlemaps"
   ]
  },
  {
   "cell_type": "code",
   "execution_count": 75,
   "metadata": {},
   "outputs": [
    {
     "name": "stdout",
     "output_type": "stream",
     "text": [
      "Traceback (most recent call last):\n",
      "  File \"/home/jupyterlab/conda/envs/python/bin/jupyter-lab\", line 7, in <module>\n",
      "    from jupyterlab.labapp import main\n",
      "ModuleNotFoundError: No module named 'jupyterlab'\n"
     ]
    }
   ],
   "source": [
    "!jupyter lab build"
   ]
  },
  {
   "cell_type": "markdown",
   "metadata": {},
   "source": [
    "Retrieving a Dataframe of 5 target locations with geographic coordinates information"
   ]
  },
  {
   "cell_type": "code",
   "execution_count": null,
   "metadata": {},
   "outputs": [],
   "source": [
    "google_act = None\n",
    "with open('google_map_act.json', 'r') as f:\n",
    "    google_act = json.load(f)\n",
    "    \n",
    "GOOGLE_MAP_API_KEY = google_act['api_key']    \n",
    "\n",
    "import googlemaps\n",
    "gmaps = googlemaps.Client(key=GOOGLE_MAP_API_KEY)"
   ]
  },
  {
   "cell_type": "code",
   "execution_count": null,
   "metadata": {},
   "outputs": [],
   "source": [
    "\n",
    "# Retrieve geolocation and create the dataframe of pending cinema addresses\n",
    "def getLatLng(address):\n",
    "    latlnt = gmaps.geocode('{}, Hong Kong'.format(address))\n",
    "    return (latlnt[0]['geometry']['location']['lat'], latlnt[0]['geometry']['location']['lng'])"
   ]
  },
  {
   "cell_type": "code",
   "execution_count": null,
   "metadata": {},
   "outputs": [],
   "source": [
    "for loc in possible_locations:        \n",
    "    (lat, lng) = getLatLng(loc['Address'])\n",
    "    loc['Latitude'] = lat\n",
    "    loc['Longitude'] = lng\n",
    "    \n",
    "df_possible_locations = pd.DataFrame(possible_locations, columns=['Location', 'Address', 'Latitude', 'Longitude'])\n",
    "df_possible_locations"
   ]
  },
  {
   "cell_type": "markdown",
   "metadata": {},
   "source": [
    "Most preffered cinema list of stakeholder"
   ]
  },
  {
   "cell_type": "code",
   "execution_count": 9,
   "metadata": {},
   "outputs": [
    {
     "data": {
      "text/html": [
       "<div>\n",
       "<style scoped>\n",
       "    .dataframe tbody tr th:only-of-type {\n",
       "        vertical-align: middle;\n",
       "    }\n",
       "\n",
       "    .dataframe tbody tr th {\n",
       "        vertical-align: top;\n",
       "    }\n",
       "\n",
       "    .dataframe thead th {\n",
       "        text-align: right;\n",
       "    }\n",
       "</style>\n",
       "<table border=\"1\" class=\"dataframe\">\n",
       "  <thead>\n",
       "    <tr style=\"text-align: right;\">\n",
       "      <th></th>\n",
       "      <th>Name</th>\n",
       "      <th>Rating</th>\n",
       "    </tr>\n",
       "  </thead>\n",
       "  <tbody>\n",
       "    <tr>\n",
       "      <td>0</td>\n",
       "      <td>Broadway Circuit - MONGKOK</td>\n",
       "      <td>4.5</td>\n",
       "    </tr>\n",
       "    <tr>\n",
       "      <td>1</td>\n",
       "      <td>Broadway Circuit - The ONE</td>\n",
       "      <td>4.5</td>\n",
       "    </tr>\n",
       "    <tr>\n",
       "      <td>2</td>\n",
       "      <td>Grand Ocean</td>\n",
       "      <td>4.3</td>\n",
       "    </tr>\n",
       "    <tr>\n",
       "      <td>3</td>\n",
       "      <td>The Grand Cinema</td>\n",
       "      <td>3.4</td>\n",
       "    </tr>\n",
       "    <tr>\n",
       "      <td>4</td>\n",
       "      <td>AMC Pacific Place</td>\n",
       "      <td>2.3</td>\n",
       "    </tr>\n",
       "    <tr>\n",
       "      <td>5</td>\n",
       "      <td>UA IMAX @ Airport</td>\n",
       "      <td>1.5</td>\n",
       "    </tr>\n",
       "  </tbody>\n",
       "</table>\n",
       "</div>"
      ],
      "text/plain": [
       "                         Name  Rating\n",
       "0  Broadway Circuit - MONGKOK     4.5\n",
       "1  Broadway Circuit - The ONE     4.5\n",
       "2                 Grand Ocean     4.3\n",
       "3            The Grand Cinema     3.4\n",
       "4           AMC Pacific Place     2.3\n",
       "5           UA IMAX @ Airport     1.5"
      ]
     },
     "execution_count": 9,
     "metadata": {},
     "output_type": "execute_result"
    }
   ],
   "source": [
    "favorite = [\n",
    "    {'Name': 'Broadway Circuit - MONGKOK', 'Rating': 4.5},\n",
    "    {'Name': 'Broadway Circuit - The ONE', 'Rating': 4.5},\n",
    "    {'Name': 'Grand Ocean', 'Rating': 4.3},\n",
    "    {'Name': 'The Grand Cinema', 'Rating': 3.4},\n",
    "    {'Name': 'AMC Pacific Place', 'Rating': 2.3},\n",
    "    {'Name': 'UA IMAX @ Airport', 'Rating': 1.5},\n",
    "]\n",
    "\n",
    "df_favorite = pd.DataFrame(favorite, columns=['Name','Rating'])\n",
    "df_favorite"
   ]
  },
  {
   "cell_type": "markdown",
   "metadata": {},
   "source": [
    "**Eating, Shopping and Public transportation facility around cinema¶**\n",
    "\n",
    "The recommended cinema location needs to have many eating and shopping venues nearby. Convenient public transport is also required.\n",
    "These data can be found by using FourSquare API to find these venues around the location. The radius of exploration distance is set to 500 meters, which is about 5 minutes walking distance.\n",
    "\n",
    "Following type of venue category will be used to search"
   ]
  },
  {
   "cell_type": "code",
   "execution_count": 11,
   "metadata": {},
   "outputs": [],
   "source": [
    "fs_categories = {\n",
    "    'Food': '4d4b7105d754a06374d81259',\n",
    "    'Shop & Service': '4d4b7105d754a06378d81259',\n",
    "    'Bus Stop': '52f2ab2ebcbc57f1066b8b4f',\n",
    "    'Metro Station': '4bf58dd8d48988d1fd931735',\n",
    "    'Nightlife Spot': '4d4b7105d754a06376d81259',\n",
    "    'Arts & Entertainment': '4d4b7104d754a06370d81259'\n",
    "}"
   ]
  },
  {
   "cell_type": "code",
   "execution_count": 12,
   "metadata": {},
   "outputs": [
    {
     "data": {
      "text/plain": [
       "'Food, Shop & Service, Bus Stop, Metro Station, Nightlife Spot, Arts & Entertainment'"
      ]
     },
     "execution_count": 12,
     "metadata": {},
     "output_type": "execute_result"
    }
   ],
   "source": [
    "\n",
    "', '.join([ cat for cat in fs_categories])"
   ]
  },
  {
   "cell_type": "code",
   "execution_count": 13,
   "metadata": {},
   "outputs": [],
   "source": [
    "cinema = df_cinemas.loc[0]"
   ]
  },
  {
   "cell_type": "code",
   "execution_count": 14,
   "metadata": {},
   "outputs": [
    {
     "name": "stdout",
     "output_type": "stream",
     "text": [
      "Use the first cinema \"Emperor Cinemas - Entertainment Building\" in the list as example to explore venues nearyby\n"
     ]
    }
   ],
   "source": [
    "print('Use the first cinema \"{}\" in the list as example to explore venues nearyby'.format(cinema['Name']))"
   ]
  },
  {
   "cell_type": "code",
   "execution_count": 15,
   "metadata": {},
   "outputs": [
    {
     "name": "stdout",
     "output_type": "stream",
     "text": [
      "Collecting foursquare\n",
      "  Downloading https://files.pythonhosted.org/packages/0b/e7/02438dddc98f19f998e1d4b962ab6bb8c37b90fa37e33a6678ce18b85f56/foursquare-1%212019.9.11.tar.gz\n",
      "Requirement already satisfied: requests>=2.1 in /home/jupyterlab/conda/envs/python/lib/python3.6/site-packages (from foursquare) (2.22.0)\n",
      "Requirement already satisfied: six in /home/jupyterlab/conda/envs/python/lib/python3.6/site-packages (from foursquare) (1.12.0)\n",
      "Requirement already satisfied: urllib3!=1.25.0,!=1.25.1,<1.26,>=1.21.1 in /home/jupyterlab/conda/envs/python/lib/python3.6/site-packages (from requests>=2.1->foursquare) (1.24.3)\n",
      "Requirement already satisfied: chardet<3.1.0,>=3.0.2 in /home/jupyterlab/conda/envs/python/lib/python3.6/site-packages (from requests>=2.1->foursquare) (3.0.4)\n",
      "Requirement already satisfied: idna<2.9,>=2.5 in /home/jupyterlab/conda/envs/python/lib/python3.6/site-packages (from requests>=2.1->foursquare) (2.8)\n",
      "Requirement already satisfied: certifi>=2017.4.17 in /home/jupyterlab/conda/envs/python/lib/python3.6/site-packages (from requests>=2.1->foursquare) (2019.6.16)\n",
      "Building wheels for collected packages: foursquare\n",
      "  Building wheel for foursquare (setup.py) ... \u001b[?25ldone\n",
      "\u001b[?25h  Stored in directory: /home/jupyterlab/.cache/pip/wheels/53/6c/d9/0810f42ef7521037af97032caab9411144ab0efab2aed8300f\n",
      "Successfully built foursquare\n",
      "Installing collected packages: foursquare\n",
      "Successfully installed foursquare-1!2019.9.11\n"
     ]
    }
   ],
   "source": [
    "# Install FourSquare client library\n",
    "!pip install foursquare"
   ]
  },
  {
   "cell_type": "code",
   "execution_count": 24,
   "metadata": {},
   "outputs": [
    {
     "ename": "FileNotFoundError",
     "evalue": "[Errno 2] No such file or directory: 'fs_act.json'",
     "output_type": "error",
     "traceback": [
      "\u001b[0;31m---------------------------------------------------------------------------\u001b[0m",
      "\u001b[0;31mFileNotFoundError\u001b[0m                         Traceback (most recent call last)",
      "\u001b[0;32m<ipython-input-24-a2ea852288f4>\u001b[0m in \u001b[0;36m<module>\u001b[0;34m\u001b[0m\n\u001b[1;32m      1\u001b[0m \u001b[0mfs_act\u001b[0m \u001b[0;34m=\u001b[0m \u001b[0;32mNone\u001b[0m\u001b[0;34m\u001b[0m\u001b[0;34m\u001b[0m\u001b[0m\n\u001b[0;32m----> 2\u001b[0;31m \u001b[0;32mwith\u001b[0m \u001b[0mopen\u001b[0m\u001b[0;34m(\u001b[0m\u001b[0;34m'fs_act.json'\u001b[0m\u001b[0;34m)\u001b[0m \u001b[0;32mas\u001b[0m \u001b[0mjson_data\u001b[0m\u001b[0;34m:\u001b[0m\u001b[0;34m\u001b[0m\u001b[0;34m\u001b[0m\u001b[0m\n\u001b[0m\u001b[1;32m      3\u001b[0m     \u001b[0mfs_act\u001b[0m \u001b[0;34m=\u001b[0m \u001b[0mjson\u001b[0m\u001b[0;34m.\u001b[0m\u001b[0mload\u001b[0m\u001b[0;34m(\u001b[0m\u001b[0mjson_data\u001b[0m\u001b[0;34m)\u001b[0m\u001b[0;34m\u001b[0m\u001b[0;34m\u001b[0m\u001b[0m\n",
      "\u001b[0;31mFileNotFoundError\u001b[0m: [Errno 2] No such file or directory: 'fs_act.json'"
     ]
    }
   ],
   "source": [
    "fs_act = None\n",
    "with open('fs_act.json') as json_data:\n",
    "    fs_act = json.load(json_data)"
   ]
  },
  {
   "cell_type": "code",
   "execution_count": 21,
   "metadata": {},
   "outputs": [
    {
     "ename": "TypeError",
     "evalue": "'NoneType' object is not subscriptable",
     "output_type": "error",
     "traceback": [
      "\u001b[0;31m---------------------------------------------------------------------------\u001b[0m",
      "\u001b[0;31mTypeError\u001b[0m                                 Traceback (most recent call last)",
      "\u001b[0;32m<ipython-input-21-6fc4d8530be7>\u001b[0m in \u001b[0;36m<module>\u001b[0;34m\u001b[0m\n\u001b[1;32m      1\u001b[0m \u001b[0;32mimport\u001b[0m \u001b[0mfoursquare\u001b[0m\u001b[0;34m\u001b[0m\u001b[0;34m\u001b[0m\u001b[0m\n\u001b[1;32m      2\u001b[0m \u001b[0;32mfrom\u001b[0m \u001b[0mpandas\u001b[0m\u001b[0;34m.\u001b[0m\u001b[0mio\u001b[0m\u001b[0;34m.\u001b[0m\u001b[0mjson\u001b[0m \u001b[0;32mimport\u001b[0m \u001b[0mjson_normalize\u001b[0m \u001b[0;31m# tranform JSON file into a pandas dataframe\u001b[0m\u001b[0;34m\u001b[0m\u001b[0;34m\u001b[0m\u001b[0m\n\u001b[0;32m----> 3\u001b[0;31m \u001b[0mfs\u001b[0m \u001b[0;34m=\u001b[0m \u001b[0mfoursquare\u001b[0m\u001b[0;34m.\u001b[0m\u001b[0mFoursquare\u001b[0m\u001b[0;34m(\u001b[0m\u001b[0mclient_id\u001b[0m\u001b[0;34m=\u001b[0m\u001b[0mfs_act\u001b[0m\u001b[0;34m[\u001b[0m\u001b[0;34m'client_id'\u001b[0m\u001b[0;34m]\u001b[0m\u001b[0;34m,\u001b[0m \u001b[0mclient_secret\u001b[0m\u001b[0;34m=\u001b[0m\u001b[0mfs_act\u001b[0m\u001b[0;34m[\u001b[0m\u001b[0;34m'client_secret'\u001b[0m\u001b[0;34m]\u001b[0m\u001b[0;34m)\u001b[0m\u001b[0;34m\u001b[0m\u001b[0;34m\u001b[0m\u001b[0m\n\u001b[0m",
      "\u001b[0;31mTypeError\u001b[0m: 'NoneType' object is not subscriptable"
     ]
    }
   ],
   "source": [
    "\n",
    "import foursquare\n",
    "from pandas.io.json import json_normalize # tranform JSON file into a pandas dataframe\n",
    "fs = foursquare.Foursquare(client_id=fs_act['client_id'], client_secret=fs_act['client_secret'])"
   ]
  },
  {
   "cell_type": "code",
   "execution_count": 25,
   "metadata": {},
   "outputs": [],
   "source": [
    "RADIUS = 500 # 500m, around 5 minutes walking time"
   ]
  },
  {
   "cell_type": "code",
   "execution_count": null,
   "metadata": {},
   "outputs": [],
   "source": [
    "# Define a function to search nearby information and convert the result as dataframe\n",
    "def venues_nearby(latitude, longitude, category, verbose=True):    \n",
    "    results = fs.venues.search(\n",
    "        params = {\n",
    "            'query': category, \n",
    "            'll': '{},{}'.format(latitude, longitude),\n",
    "            'radius': RADIUS,\n",
    "            'categoryId': fs_categories[category]\n",
    "        }\n",
    "    )    \n",
    "    df = json_normalize(results['venues'])\n",
    "    cols = ['Name','Latitude','Longitude','Tips','Users','Visits']    \n",
    "    if( len(df) == 0 ):        \n",
    "        df = pd.DataFrame(columns=cols)\n",
    "    else:        \n",
    "        df = df[['name','location.lat','location.lng','stats.tipCount','stats.usersCount','stats.visitsCount']]\n",
    "        df.columns = cols\n",
    "    if( verbose ):\n",
    "        print('{} \"{}\" venues are found within {}m of location'.format(len(df), category, RADIUS))\n",
    "    return df"
   ]
  },
  {
   "cell_type": "markdown",
   "metadata": {},
   "source": [
    "Find Metro Station around the cinema"
   ]
  },
  {
   "cell_type": "code",
   "execution_count": 26,
   "metadata": {},
   "outputs": [
    {
     "ename": "NameError",
     "evalue": "name 'venues_nearby' is not defined",
     "output_type": "error",
     "traceback": [
      "\u001b[0;31m---------------------------------------------------------------------------\u001b[0m",
      "\u001b[0;31mNameError\u001b[0m                                 Traceback (most recent call last)",
      "\u001b[0;32m<ipython-input-26-689228128b7e>\u001b[0m in \u001b[0;36m<module>\u001b[0;34m\u001b[0m\n\u001b[0;32m----> 1\u001b[0;31m \u001b[0mvenues_nearby\u001b[0m\u001b[0;34m(\u001b[0m\u001b[0mcinema\u001b[0m\u001b[0;34m[\u001b[0m\u001b[0;34m'Latitude'\u001b[0m\u001b[0;34m]\u001b[0m\u001b[0;34m,\u001b[0m \u001b[0mcinema\u001b[0m\u001b[0;34m[\u001b[0m\u001b[0;34m'Longitude'\u001b[0m\u001b[0;34m]\u001b[0m\u001b[0;34m,\u001b[0m \u001b[0;34m'Metro Station'\u001b[0m\u001b[0;34m)\u001b[0m\u001b[0;34m.\u001b[0m\u001b[0mhead\u001b[0m\u001b[0;34m(\u001b[0m\u001b[0;34m)\u001b[0m\u001b[0;34m\u001b[0m\u001b[0;34m\u001b[0m\u001b[0m\n\u001b[0m",
      "\u001b[0;31mNameError\u001b[0m: name 'venues_nearby' is not defined"
     ]
    }
   ],
   "source": [
    "venues_nearby(cinema['Latitude'], cinema['Longitude'], 'Metro Station').head()\n"
   ]
  },
  {
   "cell_type": "markdown",
   "metadata": {},
   "source": [
    "\n",
    "Find Bus Stop around the cinema"
   ]
  },
  {
   "cell_type": "code",
   "execution_count": null,
   "metadata": {},
   "outputs": [],
   "source": [
    "venues_nearby(cinema['Latitude'], cinema['Longitude'], 'Bus Stop').head()"
   ]
  },
  {
   "cell_type": "markdown",
   "metadata": {},
   "source": [
    "Find eating places around the cinema"
   ]
  },
  {
   "cell_type": "code",
   "execution_count": null,
   "metadata": {},
   "outputs": [],
   "source": [
    "venues_nearby(cinema['Latitude'], cinema['Longitude'], 'Food').head()"
   ]
  },
  {
   "cell_type": "code",
   "execution_count": null,
   "metadata": {},
   "outputs": [],
   "source": [
    "venues_nearby(cinema['Latitude'], cinema['Longitude'], 'Arts & Entertainment').head()"
   ]
  },
  {
   "cell_type": "markdown",
   "metadata": {},
   "source": [
    "<h1>Data Cleansing and Preparation</h1>"
   ]
  },
  {
   "cell_type": "markdown",
   "metadata": {},
   "source": [
    "Data Cleansing and Preparation"
   ]
  },
  {
   "cell_type": "code",
   "execution_count": 29,
   "metadata": {},
   "outputs": [
    {
     "data": {
      "text/html": [
       "<div>\n",
       "<style scoped>\n",
       "    .dataframe tbody tr th:only-of-type {\n",
       "        vertical-align: middle;\n",
       "    }\n",
       "\n",
       "    .dataframe tbody tr th {\n",
       "        vertical-align: top;\n",
       "    }\n",
       "\n",
       "    .dataframe thead th {\n",
       "        text-align: right;\n",
       "    }\n",
       "</style>\n",
       "<table border=\"1\" class=\"dataframe\">\n",
       "  <thead>\n",
       "    <tr style=\"text-align: right;\">\n",
       "      <th></th>\n",
       "      <th>Name</th>\n",
       "      <th>ChiName</th>\n",
       "      <th>Address</th>\n",
       "      <th>Latitude</th>\n",
       "      <th>Longitude</th>\n",
       "    </tr>\n",
       "  </thead>\n",
       "  <tbody>\n",
       "    <tr>\n",
       "      <td>18</td>\n",
       "      <td>Cinema City VICTORIA (Causeway Bay)</td>\n",
       "      <td>Cinema City VICTORIA (銅鑼灣)</td>\n",
       "      <td>2-8 Sugar Street, Causeway Bay, Hong Kong</td>\n",
       "      <td>NaN</td>\n",
       "      <td>NaN</td>\n",
       "    </tr>\n",
       "    <tr>\n",
       "      <td>19</td>\n",
       "      <td>Diamond Suite VIP House @ Cinema City VICTORIA...</td>\n",
       "      <td>Diamond Suite VIP House @ Cinema City VICTORIA...</td>\n",
       "      <td>2-8 Sugar Street, Causeway Bay, Hong Kong</td>\n",
       "      <td>NaN</td>\n",
       "      <td>NaN</td>\n",
       "    </tr>\n",
       "    <tr>\n",
       "      <td>0</td>\n",
       "      <td>Emperor Cinemas - Entertainment Building</td>\n",
       "      <td>英皇戲院 - 娛樂行</td>\n",
       "      <td>3/F, Emperor Cinemas Entertainment Building, 3...</td>\n",
       "      <td>NaN</td>\n",
       "      <td>NaN</td>\n",
       "    </tr>\n",
       "    <tr>\n",
       "      <td>3</td>\n",
       "      <td>The Coronet @ Emperor Cinemas - Entertainment ...</td>\n",
       "      <td>The Coronet @ 英皇戲院 - 娛樂行</td>\n",
       "      <td>3/F, Emperor Cinemas Entertainment Building, 3...</td>\n",
       "      <td>NaN</td>\n",
       "      <td>NaN</td>\n",
       "    </tr>\n",
       "    <tr>\n",
       "      <td>47</td>\n",
       "      <td>IMAX @ UA Cine Moko</td>\n",
       "      <td>IMAX @ UA Cine Moko</td>\n",
       "      <td>L4, MOKO, 193 Prince Edward Road West, Mongkok...</td>\n",
       "      <td>NaN</td>\n",
       "      <td>NaN</td>\n",
       "    </tr>\n",
       "    <tr>\n",
       "      <td>51</td>\n",
       "      <td>UA Cine Moko</td>\n",
       "      <td>UA Cine Moko</td>\n",
       "      <td>L4, MOKO, 193 Prince Edward Road West, Mongkok...</td>\n",
       "      <td>NaN</td>\n",
       "      <td>NaN</td>\n",
       "    </tr>\n",
       "    <tr>\n",
       "      <td>48</td>\n",
       "      <td>IMAX @ UA MegaBox</td>\n",
       "      <td>IMAX @ UA MegaBox</td>\n",
       "      <td>Level 11, MegaBox, Enterprise Square 5, 38 Wan...</td>\n",
       "      <td>NaN</td>\n",
       "      <td>NaN</td>\n",
       "    </tr>\n",
       "    <tr>\n",
       "      <td>49</td>\n",
       "      <td>Oscars Club @ UA MegaBox</td>\n",
       "      <td>Oscars Club @ UA MegaBox</td>\n",
       "      <td>Level 11, MegaBox, Enterprise Square 5, 38 Wan...</td>\n",
       "      <td>NaN</td>\n",
       "      <td>NaN</td>\n",
       "    </tr>\n",
       "    <tr>\n",
       "      <td>53</td>\n",
       "      <td>UA MegaBox</td>\n",
       "      <td>UA MegaBox</td>\n",
       "      <td>Level 11, MegaBox, Enterprise Square 5, 38 Wan...</td>\n",
       "      <td>NaN</td>\n",
       "      <td>NaN</td>\n",
       "    </tr>\n",
       "    <tr>\n",
       "      <td>14</td>\n",
       "      <td>Blackbox @ K11 Art House</td>\n",
       "      <td>Blackbox @ K11 Art House</td>\n",
       "      <td>Shop 415, 4/F, Victoria Dockside K11 MUSEA, 18...</td>\n",
       "      <td>NaN</td>\n",
       "      <td>NaN</td>\n",
       "    </tr>\n",
       "    <tr>\n",
       "      <td>15</td>\n",
       "      <td>IMAX @ K11 Art House</td>\n",
       "      <td>IMAX @ K11 Art House</td>\n",
       "      <td>Shop 415, 4/F, Victoria Dockside K11 MUSEA, 18...</td>\n",
       "      <td>NaN</td>\n",
       "      <td>NaN</td>\n",
       "    </tr>\n",
       "    <tr>\n",
       "      <td>16</td>\n",
       "      <td>K11 Art House</td>\n",
       "      <td>K11 Art House</td>\n",
       "      <td>Shop 415, 4/F, Victoria Dockside K11 MUSEA, 18...</td>\n",
       "      <td>NaN</td>\n",
       "      <td>NaN</td>\n",
       "    </tr>\n",
       "  </tbody>\n",
       "</table>\n",
       "</div>"
      ],
      "text/plain": [
       "                                                 Name  \\\n",
       "18                Cinema City VICTORIA (Causeway Bay)   \n",
       "19  Diamond Suite VIP House @ Cinema City VICTORIA...   \n",
       "0            Emperor Cinemas - Entertainment Building   \n",
       "3   The Coronet @ Emperor Cinemas - Entertainment ...   \n",
       "47                                IMAX @ UA Cine Moko   \n",
       "51                                       UA Cine Moko   \n",
       "48                                  IMAX @ UA MegaBox   \n",
       "49                           Oscars Club @ UA MegaBox   \n",
       "53                                         UA MegaBox   \n",
       "14                           Blackbox @ K11 Art House   \n",
       "15                               IMAX @ K11 Art House   \n",
       "16                                      K11 Art House   \n",
       "\n",
       "                                              ChiName  \\\n",
       "18                         Cinema City VICTORIA (銅鑼灣)   \n",
       "19  Diamond Suite VIP House @ Cinema City VICTORIA...   \n",
       "0                                          英皇戲院 - 娛樂行   \n",
       "3                            The Coronet @ 英皇戲院 - 娛樂行   \n",
       "47                                IMAX @ UA Cine Moko   \n",
       "51                                       UA Cine Moko   \n",
       "48                                  IMAX @ UA MegaBox   \n",
       "49                           Oscars Club @ UA MegaBox   \n",
       "53                                         UA MegaBox   \n",
       "14                           Blackbox @ K11 Art House   \n",
       "15                               IMAX @ K11 Art House   \n",
       "16                                      K11 Art House   \n",
       "\n",
       "                                              Address  Latitude  Longitude  \n",
       "18          2-8 Sugar Street, Causeway Bay, Hong Kong       NaN        NaN  \n",
       "19          2-8 Sugar Street, Causeway Bay, Hong Kong       NaN        NaN  \n",
       "0   3/F, Emperor Cinemas Entertainment Building, 3...       NaN        NaN  \n",
       "3   3/F, Emperor Cinemas Entertainment Building, 3...       NaN        NaN  \n",
       "47  L4, MOKO, 193 Prince Edward Road West, Mongkok...       NaN        NaN  \n",
       "51  L4, MOKO, 193 Prince Edward Road West, Mongkok...       NaN        NaN  \n",
       "48  Level 11, MegaBox, Enterprise Square 5, 38 Wan...       NaN        NaN  \n",
       "49  Level 11, MegaBox, Enterprise Square 5, 38 Wan...       NaN        NaN  \n",
       "53  Level 11, MegaBox, Enterprise Square 5, 38 Wan...       NaN        NaN  \n",
       "14  Shop 415, 4/F, Victoria Dockside K11 MUSEA, 18...       NaN        NaN  \n",
       "15  Shop 415, 4/F, Victoria Dockside K11 MUSEA, 18...       NaN        NaN  \n",
       "16  Shop 415, 4/F, Victoria Dockside K11 MUSEA, 18...       NaN        NaN  "
      ]
     },
     "execution_count": 29,
     "metadata": {},
     "output_type": "execute_result"
    }
   ],
   "source": [
    "duplicated = df_cinemas.duplicated('Address', keep=False)\n",
    "df_cinemas[duplicated].sort_values('Address')"
   ]
  },
  {
   "cell_type": "markdown",
   "metadata": {},
   "source": [
    "\n",
    "Some \"special house\" in cinema are separated as a new cinema in www.hkmovie6.com\n",
    "These records are duplicated in my case and should be corrected."
   ]
  },
  {
   "cell_type": "code",
   "execution_count": 30,
   "metadata": {},
   "outputs": [],
   "source": [
    "# The Grand SC Starsuite -> The Grand Cinema\n",
    "df_cinemas.loc[29, 'Name'] = 'The Grand Cinema'\n",
    "\n",
    "# XXX @ UA MegaBox -> UA MegaBox\n",
    "df_cinemas.loc[44, 'Name'] = 'UA MegaBox'\n",
    "df_cinemas.loc[45, 'Name'] = 'UA MegaBox'\n",
    "\n",
    "# BEA IMAX @ UA Cine Moko -> UA Cine Moko\n",
    "df_cinemas.loc[42, 'Name'] = 'UA Cine Moko'\n",
    "\n",
    "# XXX @ UA iSQUARE -> iSQUARE\n",
    "df_cinemas.loc[43, 'Name'] = 'UA iSQUARE'\n",
    "df_cinemas.loc[46, 'Name'] = 'UA iSQUARE'\n",
    "\n",
    "# Emperor Cinemas - Entertainment Building\n",
    "df_cinemas.loc[1, 'Name'] = 'Emperor Cinemas - Entertainment Building'\n",
    "\n",
    "# Cinema City VICTORIA (Causeway Bay)\n",
    "df_cinemas.loc[6, 'Name'] = 'Cinema City VICTORIA (Causeway Bay)'"
   ]
  },
  {
   "cell_type": "code",
   "execution_count": 31,
   "metadata": {},
   "outputs": [
    {
     "data": {
      "text/html": [
       "<div>\n",
       "<style scoped>\n",
       "    .dataframe tbody tr th:only-of-type {\n",
       "        vertical-align: middle;\n",
       "    }\n",
       "\n",
       "    .dataframe tbody tr th {\n",
       "        vertical-align: top;\n",
       "    }\n",
       "\n",
       "    .dataframe thead th {\n",
       "        text-align: right;\n",
       "    }\n",
       "</style>\n",
       "<table border=\"1\" class=\"dataframe\">\n",
       "  <thead>\n",
       "    <tr style=\"text-align: right;\">\n",
       "      <th></th>\n",
       "      <th>Name</th>\n",
       "      <th>ChiName</th>\n",
       "      <th>Address</th>\n",
       "      <th>Latitude</th>\n",
       "      <th>Longitude</th>\n",
       "    </tr>\n",
       "  </thead>\n",
       "  <tbody>\n",
       "    <tr>\n",
       "      <td>0</td>\n",
       "      <td>Emperor Cinemas - Entertainment Building</td>\n",
       "      <td>英皇戲院 - 娛樂行</td>\n",
       "      <td>3/F, Emperor Cinemas Entertainment Building, 3...</td>\n",
       "      <td>NaN</td>\n",
       "      <td>NaN</td>\n",
       "    </tr>\n",
       "    <tr>\n",
       "      <td>3</td>\n",
       "      <td>The Coronet @ Emperor Cinemas - Entertainment ...</td>\n",
       "      <td>The Coronet @ 英皇戲院 - 娛樂行</td>\n",
       "      <td>3/F, Emperor Cinemas Entertainment Building, 3...</td>\n",
       "      <td>NaN</td>\n",
       "      <td>NaN</td>\n",
       "    </tr>\n",
       "    <tr>\n",
       "      <td>14</td>\n",
       "      <td>Blackbox @ K11 Art House</td>\n",
       "      <td>Blackbox @ K11 Art House</td>\n",
       "      <td>Shop 415, 4/F, Victoria Dockside K11 MUSEA, 18...</td>\n",
       "      <td>NaN</td>\n",
       "      <td>NaN</td>\n",
       "    </tr>\n",
       "    <tr>\n",
       "      <td>15</td>\n",
       "      <td>IMAX @ K11 Art House</td>\n",
       "      <td>IMAX @ K11 Art House</td>\n",
       "      <td>Shop 415, 4/F, Victoria Dockside K11 MUSEA, 18...</td>\n",
       "      <td>NaN</td>\n",
       "      <td>NaN</td>\n",
       "    </tr>\n",
       "    <tr>\n",
       "      <td>16</td>\n",
       "      <td>K11 Art House</td>\n",
       "      <td>K11 Art House</td>\n",
       "      <td>Shop 415, 4/F, Victoria Dockside K11 MUSEA, 18...</td>\n",
       "      <td>NaN</td>\n",
       "      <td>NaN</td>\n",
       "    </tr>\n",
       "    <tr>\n",
       "      <td>18</td>\n",
       "      <td>Cinema City VICTORIA (Causeway Bay)</td>\n",
       "      <td>Cinema City VICTORIA (銅鑼灣)</td>\n",
       "      <td>2-8 Sugar Street, Causeway Bay, Hong Kong</td>\n",
       "      <td>NaN</td>\n",
       "      <td>NaN</td>\n",
       "    </tr>\n",
       "    <tr>\n",
       "      <td>19</td>\n",
       "      <td>Diamond Suite VIP House @ Cinema City VICTORIA...</td>\n",
       "      <td>Diamond Suite VIP House @ Cinema City VICTORIA...</td>\n",
       "      <td>2-8 Sugar Street, Causeway Bay, Hong Kong</td>\n",
       "      <td>NaN</td>\n",
       "      <td>NaN</td>\n",
       "    </tr>\n",
       "    <tr>\n",
       "      <td>47</td>\n",
       "      <td>IMAX @ UA Cine Moko</td>\n",
       "      <td>IMAX @ UA Cine Moko</td>\n",
       "      <td>L4, MOKO, 193 Prince Edward Road West, Mongkok...</td>\n",
       "      <td>NaN</td>\n",
       "      <td>NaN</td>\n",
       "    </tr>\n",
       "    <tr>\n",
       "      <td>48</td>\n",
       "      <td>IMAX @ UA MegaBox</td>\n",
       "      <td>IMAX @ UA MegaBox</td>\n",
       "      <td>Level 11, MegaBox, Enterprise Square 5, 38 Wan...</td>\n",
       "      <td>NaN</td>\n",
       "      <td>NaN</td>\n",
       "    </tr>\n",
       "    <tr>\n",
       "      <td>49</td>\n",
       "      <td>Oscars Club @ UA MegaBox</td>\n",
       "      <td>Oscars Club @ UA MegaBox</td>\n",
       "      <td>Level 11, MegaBox, Enterprise Square 5, 38 Wan...</td>\n",
       "      <td>NaN</td>\n",
       "      <td>NaN</td>\n",
       "    </tr>\n",
       "    <tr>\n",
       "      <td>51</td>\n",
       "      <td>UA Cine Moko</td>\n",
       "      <td>UA Cine Moko</td>\n",
       "      <td>L4, MOKO, 193 Prince Edward Road West, Mongkok...</td>\n",
       "      <td>NaN</td>\n",
       "      <td>NaN</td>\n",
       "    </tr>\n",
       "    <tr>\n",
       "      <td>53</td>\n",
       "      <td>UA MegaBox</td>\n",
       "      <td>UA MegaBox</td>\n",
       "      <td>Level 11, MegaBox, Enterprise Square 5, 38 Wan...</td>\n",
       "      <td>NaN</td>\n",
       "      <td>NaN</td>\n",
       "    </tr>\n",
       "  </tbody>\n",
       "</table>\n",
       "</div>"
      ],
      "text/plain": [
       "                                                 Name  \\\n",
       "0            Emperor Cinemas - Entertainment Building   \n",
       "3   The Coronet @ Emperor Cinemas - Entertainment ...   \n",
       "14                           Blackbox @ K11 Art House   \n",
       "15                               IMAX @ K11 Art House   \n",
       "16                                      K11 Art House   \n",
       "18                Cinema City VICTORIA (Causeway Bay)   \n",
       "19  Diamond Suite VIP House @ Cinema City VICTORIA...   \n",
       "47                                IMAX @ UA Cine Moko   \n",
       "48                                  IMAX @ UA MegaBox   \n",
       "49                           Oscars Club @ UA MegaBox   \n",
       "51                                       UA Cine Moko   \n",
       "53                                         UA MegaBox   \n",
       "\n",
       "                                              ChiName  \\\n",
       "0                                          英皇戲院 - 娛樂行   \n",
       "3                            The Coronet @ 英皇戲院 - 娛樂行   \n",
       "14                           Blackbox @ K11 Art House   \n",
       "15                               IMAX @ K11 Art House   \n",
       "16                                      K11 Art House   \n",
       "18                         Cinema City VICTORIA (銅鑼灣)   \n",
       "19  Diamond Suite VIP House @ Cinema City VICTORIA...   \n",
       "47                                IMAX @ UA Cine Moko   \n",
       "48                                  IMAX @ UA MegaBox   \n",
       "49                           Oscars Club @ UA MegaBox   \n",
       "51                                       UA Cine Moko   \n",
       "53                                         UA MegaBox   \n",
       "\n",
       "                                              Address  Latitude  Longitude  \n",
       "0   3/F, Emperor Cinemas Entertainment Building, 3...       NaN        NaN  \n",
       "3   3/F, Emperor Cinemas Entertainment Building, 3...       NaN        NaN  \n",
       "14  Shop 415, 4/F, Victoria Dockside K11 MUSEA, 18...       NaN        NaN  \n",
       "15  Shop 415, 4/F, Victoria Dockside K11 MUSEA, 18...       NaN        NaN  \n",
       "16  Shop 415, 4/F, Victoria Dockside K11 MUSEA, 18...       NaN        NaN  \n",
       "18          2-8 Sugar Street, Causeway Bay, Hong Kong       NaN        NaN  \n",
       "19          2-8 Sugar Street, Causeway Bay, Hong Kong       NaN        NaN  \n",
       "47  L4, MOKO, 193 Prince Edward Road West, Mongkok...       NaN        NaN  \n",
       "48  Level 11, MegaBox, Enterprise Square 5, 38 Wan...       NaN        NaN  \n",
       "49  Level 11, MegaBox, Enterprise Square 5, 38 Wan...       NaN        NaN  \n",
       "51  L4, MOKO, 193 Prince Edward Road West, Mongkok...       NaN        NaN  \n",
       "53  Level 11, MegaBox, Enterprise Square 5, 38 Wan...       NaN        NaN  "
      ]
     },
     "execution_count": 31,
     "metadata": {},
     "output_type": "execute_result"
    }
   ],
   "source": [
    "df_cinemas[duplicated]\n"
   ]
  },
  {
   "cell_type": "code",
   "execution_count": 32,
   "metadata": {},
   "outputs": [],
   "source": [
    "\n",
    "df_cinemas.drop_duplicates('Address', inplace=True, keep='first')"
   ]
  },
  {
   "cell_type": "code",
   "execution_count": 33,
   "metadata": {},
   "outputs": [
    {
     "data": {
      "text/html": [
       "<div>\n",
       "<style scoped>\n",
       "    .dataframe tbody tr th:only-of-type {\n",
       "        vertical-align: middle;\n",
       "    }\n",
       "\n",
       "    .dataframe tbody tr th {\n",
       "        vertical-align: top;\n",
       "    }\n",
       "\n",
       "    .dataframe thead th {\n",
       "        text-align: right;\n",
       "    }\n",
       "</style>\n",
       "<table border=\"1\" class=\"dataframe\">\n",
       "  <thead>\n",
       "    <tr style=\"text-align: right;\">\n",
       "      <th></th>\n",
       "      <th>Name</th>\n",
       "      <th>ChiName</th>\n",
       "      <th>Address</th>\n",
       "      <th>Latitude</th>\n",
       "      <th>Longitude</th>\n",
       "    </tr>\n",
       "  </thead>\n",
       "  <tbody>\n",
       "    <tr>\n",
       "      <td>1</td>\n",
       "      <td>Emperor Cinemas - Entertainment Building</td>\n",
       "      <td>英皇戲院 - 馬鞍山新港城中心</td>\n",
       "      <td>L2, MOSTown, Sai Sha Road, Ma On Shan, N.T.</td>\n",
       "      <td>NaN</td>\n",
       "      <td>NaN</td>\n",
       "    </tr>\n",
       "    <tr>\n",
       "      <td>18</td>\n",
       "      <td>Cinema City VICTORIA (Causeway Bay)</td>\n",
       "      <td>Cinema City VICTORIA (銅鑼灣)</td>\n",
       "      <td>2-8 Sugar Street, Causeway Bay, Hong Kong</td>\n",
       "      <td>NaN</td>\n",
       "      <td>NaN</td>\n",
       "    </tr>\n",
       "    <tr>\n",
       "      <td>45</td>\n",
       "      <td>UA MegaBox</td>\n",
       "      <td>Cinema City 朗豪坊</td>\n",
       "      <td>Level 8-11, Langham Place, 8 Argyle Street, Mo...</td>\n",
       "      <td>NaN</td>\n",
       "      <td>NaN</td>\n",
       "    </tr>\n",
       "    <tr>\n",
       "      <td>46</td>\n",
       "      <td>UA iSQUARE</td>\n",
       "      <td>UA Cine Times</td>\n",
       "      <td>13/F, Times Square, 1 Matheson St., Causeway Bay</td>\n",
       "      <td>NaN</td>\n",
       "      <td>NaN</td>\n",
       "    </tr>\n",
       "  </tbody>\n",
       "</table>\n",
       "</div>"
      ],
      "text/plain": [
       "                                        Name                     ChiName  \\\n",
       "1   Emperor Cinemas - Entertainment Building             英皇戲院 - 馬鞍山新港城中心   \n",
       "18       Cinema City VICTORIA (Causeway Bay)  Cinema City VICTORIA (銅鑼灣)   \n",
       "45                                UA MegaBox             Cinema City 朗豪坊   \n",
       "46                                UA iSQUARE               UA Cine Times   \n",
       "\n",
       "                                              Address  Latitude  Longitude  \n",
       "1         L2, MOSTown, Sai Sha Road, Ma On Shan, N.T.       NaN        NaN  \n",
       "18          2-8 Sugar Street, Causeway Bay, Hong Kong       NaN        NaN  \n",
       "45  Level 8-11, Langham Place, 8 Argyle Street, Mo...       NaN        NaN  \n",
       "46   13/F, Times Square, 1 Matheson St., Causeway Bay       NaN        NaN  "
      ]
     },
     "execution_count": 33,
     "metadata": {},
     "output_type": "execute_result"
    }
   ],
   "source": [
    "df_cinemas[df_cinemas.duplicated('Name')]"
   ]
  },
  {
   "cell_type": "code",
   "execution_count": 34,
   "metadata": {},
   "outputs": [
    {
     "data": {
      "text/html": [
       "<div>\n",
       "<style scoped>\n",
       "    .dataframe tbody tr th:only-of-type {\n",
       "        vertical-align: middle;\n",
       "    }\n",
       "\n",
       "    .dataframe tbody tr th {\n",
       "        vertical-align: top;\n",
       "    }\n",
       "\n",
       "    .dataframe thead th {\n",
       "        text-align: right;\n",
       "    }\n",
       "</style>\n",
       "<table border=\"1\" class=\"dataframe\">\n",
       "  <thead>\n",
       "    <tr style=\"text-align: right;\">\n",
       "      <th></th>\n",
       "      <th>Name</th>\n",
       "      <th>ChiName</th>\n",
       "      <th>Address</th>\n",
       "      <th>Latitude</th>\n",
       "      <th>Longitude</th>\n",
       "    </tr>\n",
       "  </thead>\n",
       "  <tbody>\n",
       "    <tr>\n",
       "      <td>0</td>\n",
       "      <td>Emperor Cinemas - Entertainment Building</td>\n",
       "      <td>英皇戲院 - 娛樂行</td>\n",
       "      <td>3/F, Emperor Cinemas Entertainment Building, 3...</td>\n",
       "      <td>NaN</td>\n",
       "      <td>NaN</td>\n",
       "    </tr>\n",
       "    <tr>\n",
       "      <td>1</td>\n",
       "      <td>Emperor Cinemas - Entertainment Building</td>\n",
       "      <td>英皇戲院 - 馬鞍山新港城中心</td>\n",
       "      <td>L2, MOSTown, Sai Sha Road, Ma On Shan, N.T.</td>\n",
       "      <td>NaN</td>\n",
       "      <td>NaN</td>\n",
       "    </tr>\n",
       "    <tr>\n",
       "      <td>2</td>\n",
       "      <td>Emperor Cinemas - Tuen Mun</td>\n",
       "      <td>英皇戲院 - 屯門新都商場</td>\n",
       "      <td>3/F, New Town Commercial Arcade, 2 Tuen Lee St...</td>\n",
       "      <td>NaN</td>\n",
       "      <td>NaN</td>\n",
       "    </tr>\n",
       "    <tr>\n",
       "      <td>4</td>\n",
       "      <td>Festival Grand Cinema</td>\n",
       "      <td>Festival Grand Cinema</td>\n",
       "      <td>Level UG, Festival Walk, 80 Tat Chee Avenue, K...</td>\n",
       "      <td>NaN</td>\n",
       "      <td>NaN</td>\n",
       "    </tr>\n",
       "    <tr>\n",
       "      <td>5</td>\n",
       "      <td>Grand Kornhill Cinema</td>\n",
       "      <td>康怡戲院</td>\n",
       "      <td>4/F, Kornhill Plaza South, 2 Kornhill Road, Qu...</td>\n",
       "      <td>NaN</td>\n",
       "      <td>NaN</td>\n",
       "    </tr>\n",
       "  </tbody>\n",
       "</table>\n",
       "</div>"
      ],
      "text/plain": [
       "                                       Name                ChiName  \\\n",
       "0  Emperor Cinemas - Entertainment Building             英皇戲院 - 娛樂行   \n",
       "1  Emperor Cinemas - Entertainment Building        英皇戲院 - 馬鞍山新港城中心   \n",
       "2                Emperor Cinemas - Tuen Mun          英皇戲院 - 屯門新都商場   \n",
       "4                     Festival Grand Cinema  Festival Grand Cinema   \n",
       "5                     Grand Kornhill Cinema                   康怡戲院   \n",
       "\n",
       "                                             Address  Latitude  Longitude  \n",
       "0  3/F, Emperor Cinemas Entertainment Building, 3...       NaN        NaN  \n",
       "1        L2, MOSTown, Sai Sha Road, Ma On Shan, N.T.       NaN        NaN  \n",
       "2  3/F, New Town Commercial Arcade, 2 Tuen Lee St...       NaN        NaN  \n",
       "4  Level UG, Festival Walk, 80 Tat Chee Avenue, K...       NaN        NaN  \n",
       "5  4/F, Kornhill Plaza South, 2 Kornhill Road, Qu...       NaN        NaN  "
      ]
     },
     "execution_count": 34,
     "metadata": {},
     "output_type": "execute_result"
    }
   ],
   "source": [
    "df_cinemas.head()"
   ]
  },
  {
   "cell_type": "code",
   "execution_count": 35,
   "metadata": {},
   "outputs": [
    {
     "data": {
      "text/html": [
       "<div>\n",
       "<style scoped>\n",
       "    .dataframe tbody tr th:only-of-type {\n",
       "        vertical-align: middle;\n",
       "    }\n",
       "\n",
       "    .dataframe tbody tr th {\n",
       "        vertical-align: top;\n",
       "    }\n",
       "\n",
       "    .dataframe thead th {\n",
       "        text-align: right;\n",
       "    }\n",
       "</style>\n",
       "<table border=\"1\" class=\"dataframe\">\n",
       "  <thead>\n",
       "    <tr style=\"text-align: right;\">\n",
       "      <th></th>\n",
       "      <th>ChiName</th>\n",
       "    </tr>\n",
       "  </thead>\n",
       "  <tbody>\n",
       "    <tr>\n",
       "      <td>0</td>\n",
       "      <td>英皇戲院 - 娛樂行</td>\n",
       "    </tr>\n",
       "    <tr>\n",
       "      <td>1</td>\n",
       "      <td>英皇戲院 - 馬鞍山新港城中心</td>\n",
       "    </tr>\n",
       "    <tr>\n",
       "      <td>2</td>\n",
       "      <td>英皇戲院 - 屯門新都商場</td>\n",
       "    </tr>\n",
       "    <tr>\n",
       "      <td>4</td>\n",
       "      <td>Festival Grand Cinema</td>\n",
       "    </tr>\n",
       "    <tr>\n",
       "      <td>5</td>\n",
       "      <td>康怡戲院</td>\n",
       "    </tr>\n",
       "    <tr>\n",
       "      <td>6</td>\n",
       "      <td>皇室戲院</td>\n",
       "    </tr>\n",
       "    <tr>\n",
       "      <td>7</td>\n",
       "      <td>MCL 長沙灣戲院</td>\n",
       "    </tr>\n",
       "    <tr>\n",
       "      <td>8</td>\n",
       "      <td>MCL 粉嶺戲院</td>\n",
       "    </tr>\n",
       "    <tr>\n",
       "      <td>9</td>\n",
       "      <td>MCL 新都城戲院</td>\n",
       "    </tr>\n",
       "    <tr>\n",
       "      <td>10</td>\n",
       "      <td>MCL 海怡戲院</td>\n",
       "    </tr>\n",
       "    <tr>\n",
       "      <td>11</td>\n",
       "      <td>MCL 德福戲院</td>\n",
       "    </tr>\n",
       "    <tr>\n",
       "      <td>12</td>\n",
       "      <td>MOVIE TOWN - 新城市廣場</td>\n",
       "    </tr>\n",
       "    <tr>\n",
       "      <td>13</td>\n",
       "      <td>STAR Cinema</td>\n",
       "    </tr>\n",
       "    <tr>\n",
       "      <td>14</td>\n",
       "      <td>Blackbox @ K11 Art House</td>\n",
       "    </tr>\n",
       "    <tr>\n",
       "      <td>17</td>\n",
       "      <td>百老匯戲院 - 數碼港</td>\n",
       "    </tr>\n",
       "    <tr>\n",
       "      <td>18</td>\n",
       "      <td>Cinema City VICTORIA (銅鑼灣)</td>\n",
       "    </tr>\n",
       "    <tr>\n",
       "      <td>20</td>\n",
       "      <td>PALACE ifc</td>\n",
       "    </tr>\n",
       "    <tr>\n",
       "      <td>21</td>\n",
       "      <td>百老匯電影中心</td>\n",
       "    </tr>\n",
       "    <tr>\n",
       "      <td>22</td>\n",
       "      <td>百老匯戲院 - 荷里活</td>\n",
       "    </tr>\n",
       "    <tr>\n",
       "      <td>23</td>\n",
       "      <td>百老匯戲院 - 旺角</td>\n",
       "    </tr>\n",
       "    <tr>\n",
       "      <td>24</td>\n",
       "      <td>百老匯戲院 - The ONE</td>\n",
       "    </tr>\n",
       "    <tr>\n",
       "      <td>25</td>\n",
       "      <td>MOViE MOViE Cityplaza</td>\n",
       "    </tr>\n",
       "    <tr>\n",
       "      <td>26</td>\n",
       "      <td>PALACE apm</td>\n",
       "    </tr>\n",
       "    <tr>\n",
       "      <td>27</td>\n",
       "      <td>PREMIERE ELEMENTS</td>\n",
       "    </tr>\n",
       "    <tr>\n",
       "      <td>28</td>\n",
       "      <td>百老匯戲院 - 嘉湖銀座</td>\n",
       "    </tr>\n",
       "    <tr>\n",
       "      <td>29</td>\n",
       "      <td>百老匯戲院 - 葵芳</td>\n",
       "    </tr>\n",
       "    <tr>\n",
       "      <td>30</td>\n",
       "      <td>百老匯戲院 - 荃灣</td>\n",
       "    </tr>\n",
       "    <tr>\n",
       "      <td>31</td>\n",
       "      <td>MY CINEMA YOHO MALL</td>\n",
       "    </tr>\n",
       "    <tr>\n",
       "      <td>32</td>\n",
       "      <td>AMC Pacific Place</td>\n",
       "    </tr>\n",
       "    <tr>\n",
       "      <td>33</td>\n",
       "      <td>CGV Cinemas D2 Place</td>\n",
       "    </tr>\n",
       "    <tr>\n",
       "      <td>34</td>\n",
       "      <td>the sky (奧海城)</td>\n",
       "    </tr>\n",
       "    <tr>\n",
       "      <td>35</td>\n",
       "      <td>嘉禾黃埔</td>\n",
       "    </tr>\n",
       "    <tr>\n",
       "      <td>36</td>\n",
       "      <td>嘉禾粉嶺</td>\n",
       "    </tr>\n",
       "    <tr>\n",
       "      <td>37</td>\n",
       "      <td>嘉禾 V WALK</td>\n",
       "    </tr>\n",
       "    <tr>\n",
       "      <td>38</td>\n",
       "      <td>StagE</td>\n",
       "    </tr>\n",
       "    <tr>\n",
       "      <td>39</td>\n",
       "      <td>嘉禾啟德</td>\n",
       "    </tr>\n",
       "    <tr>\n",
       "      <td>40</td>\n",
       "      <td>海運戲院</td>\n",
       "    </tr>\n",
       "    <tr>\n",
       "      <td>41</td>\n",
       "      <td>星影匯</td>\n",
       "    </tr>\n",
       "    <tr>\n",
       "      <td>42</td>\n",
       "      <td>CANDY PARK BY CINEMA CITY (愉景新城)</td>\n",
       "    </tr>\n",
       "    <tr>\n",
       "      <td>43</td>\n",
       "      <td>Cinema City 柴灣</td>\n",
       "    </tr>\n",
       "    <tr>\n",
       "      <td>44</td>\n",
       "      <td>Cinema City JP</td>\n",
       "    </tr>\n",
       "    <tr>\n",
       "      <td>45</td>\n",
       "      <td>Cinema City 朗豪坊</td>\n",
       "    </tr>\n",
       "    <tr>\n",
       "      <td>46</td>\n",
       "      <td>UA Cine Times</td>\n",
       "    </tr>\n",
       "    <tr>\n",
       "      <td>47</td>\n",
       "      <td>IMAX @ UA Cine Moko</td>\n",
       "    </tr>\n",
       "    <tr>\n",
       "      <td>48</td>\n",
       "      <td>IMAX @ UA MegaBox</td>\n",
       "    </tr>\n",
       "    <tr>\n",
       "      <td>50</td>\n",
       "      <td>UA 淘大</td>\n",
       "    </tr>\n",
       "    <tr>\n",
       "      <td>52</td>\n",
       "      <td>UA 青衣城</td>\n",
       "    </tr>\n",
       "    <tr>\n",
       "      <td>54</td>\n",
       "      <td>UA 東薈城</td>\n",
       "    </tr>\n",
       "    <tr>\n",
       "      <td>55</td>\n",
       "      <td>機場UA IMAX 影院</td>\n",
       "    </tr>\n",
       "    <tr>\n",
       "      <td>56</td>\n",
       "      <td>總統</td>\n",
       "    </tr>\n",
       "    <tr>\n",
       "      <td>57</td>\n",
       "      <td>豪華</td>\n",
       "    </tr>\n",
       "    <tr>\n",
       "      <td>58</td>\n",
       "      <td>新寶</td>\n",
       "    </tr>\n",
       "    <tr>\n",
       "      <td>59</td>\n",
       "      <td>香港科學館演講廳</td>\n",
       "    </tr>\n",
       "    <tr>\n",
       "      <td>60</td>\n",
       "      <td>凱都</td>\n",
       "    </tr>\n",
       "    <tr>\n",
       "      <td>61</td>\n",
       "      <td>巴黎倫敦紐約米蘭戲院</td>\n",
       "    </tr>\n",
       "    <tr>\n",
       "      <td>62</td>\n",
       "      <td>元朗戲院</td>\n",
       "    </tr>\n",
       "    <tr>\n",
       "      <td>63</td>\n",
       "      <td>香港兆基創意書院放映室</td>\n",
       "    </tr>\n",
       "    <tr>\n",
       "      <td>64</td>\n",
       "      <td>L Cinema Shau Kei Wan</td>\n",
       "    </tr>\n",
       "    <tr>\n",
       "      <td>65</td>\n",
       "      <td>饒館新一天院線</td>\n",
       "    </tr>\n",
       "    <tr>\n",
       "      <td>66</td>\n",
       "      <td>香港藝術中心古天樂電影院</td>\n",
       "    </tr>\n",
       "    <tr>\n",
       "      <td>67</td>\n",
       "      <td>Lumen Cinema</td>\n",
       "    </tr>\n",
       "    <tr>\n",
       "      <td>68</td>\n",
       "      <td>寶石戲院</td>\n",
       "    </tr>\n",
       "    <tr>\n",
       "      <td>69</td>\n",
       "      <td>新光戲院大劇場</td>\n",
       "    </tr>\n",
       "    <tr>\n",
       "      <td>70</td>\n",
       "      <td>Super 3 影院</td>\n",
       "    </tr>\n",
       "    <tr>\n",
       "      <td>71</td>\n",
       "      <td>大館</td>\n",
       "    </tr>\n",
       "  </tbody>\n",
       "</table>\n",
       "</div>"
      ],
      "text/plain": [
       "                             ChiName\n",
       "0                         英皇戲院 - 娛樂行\n",
       "1                    英皇戲院 - 馬鞍山新港城中心\n",
       "2                      英皇戲院 - 屯門新都商場\n",
       "4              Festival Grand Cinema\n",
       "5                               康怡戲院\n",
       "6                               皇室戲院\n",
       "7                          MCL 長沙灣戲院\n",
       "8                           MCL 粉嶺戲院\n",
       "9                          MCL 新都城戲院\n",
       "10                          MCL 海怡戲院\n",
       "11                          MCL 德福戲院\n",
       "12                MOVIE TOWN - 新城市廣場\n",
       "13                       STAR Cinema\n",
       "14          Blackbox @ K11 Art House\n",
       "17                       百老匯戲院 - 數碼港\n",
       "18        Cinema City VICTORIA (銅鑼灣)\n",
       "20                        PALACE ifc\n",
       "21                           百老匯電影中心\n",
       "22                       百老匯戲院 - 荷里活\n",
       "23                        百老匯戲院 - 旺角\n",
       "24                   百老匯戲院 - The ONE\n",
       "25             MOViE MOViE Cityplaza\n",
       "26                        PALACE apm\n",
       "27                 PREMIERE ELEMENTS\n",
       "28                      百老匯戲院 - 嘉湖銀座\n",
       "29                        百老匯戲院 - 葵芳\n",
       "30                        百老匯戲院 - 荃灣\n",
       "31               MY CINEMA YOHO MALL\n",
       "32                 AMC Pacific Place\n",
       "33              CGV Cinemas D2 Place\n",
       "34                     the sky (奧海城)\n",
       "35                              嘉禾黃埔\n",
       "36                              嘉禾粉嶺\n",
       "37                         嘉禾 V WALK\n",
       "38                             StagE\n",
       "39                              嘉禾啟德\n",
       "40                              海運戲院\n",
       "41                               星影匯\n",
       "42  CANDY PARK BY CINEMA CITY (愉景新城)\n",
       "43                    Cinema City 柴灣\n",
       "44                    Cinema City JP\n",
       "45                   Cinema City 朗豪坊\n",
       "46                     UA Cine Times\n",
       "47               IMAX @ UA Cine Moko\n",
       "48                 IMAX @ UA MegaBox\n",
       "50                             UA 淘大\n",
       "52                            UA 青衣城\n",
       "54                            UA 東薈城\n",
       "55                      機場UA IMAX 影院\n",
       "56                                總統\n",
       "57                                豪華\n",
       "58                                新寶\n",
       "59                          香港科學館演講廳\n",
       "60                                凱都\n",
       "61                        巴黎倫敦紐約米蘭戲院\n",
       "62                              元朗戲院\n",
       "63                       香港兆基創意書院放映室\n",
       "64             L Cinema Shau Kei Wan\n",
       "65                           饒館新一天院線\n",
       "66                      香港藝術中心古天樂電影院\n",
       "67                      Lumen Cinema\n",
       "68                              寶石戲院\n",
       "69                           新光戲院大劇場\n",
       "70                        Super 3 影院\n",
       "71                                大館"
      ]
     },
     "execution_count": 35,
     "metadata": {},
     "output_type": "execute_result"
    }
   ],
   "source": [
    "df_cinemas['ChiName'].to_frame()"
   ]
  },
  {
   "cell_type": "markdown",
   "metadata": {},
   "source": [
    "Cinema '新光戲院大劇場' and '大館' should be considered as cinema in Tokyo. These records must be rmeoved"
   ]
  },
  {
   "cell_type": "code",
   "execution_count": 36,
   "metadata": {},
   "outputs": [],
   "source": [
    "df_cinemas.drop(index=[65,67], inplace=True)"
   ]
  },
  {
   "cell_type": "code",
   "execution_count": 37,
   "metadata": {},
   "outputs": [],
   "source": [
    "df_cinemas.drop(axis=1, columns=['ChiName'], inplace=True)"
   ]
  },
  {
   "cell_type": "code",
   "execution_count": 38,
   "metadata": {},
   "outputs": [
    {
     "data": {
      "text/html": [
       "<div>\n",
       "<style scoped>\n",
       "    .dataframe tbody tr th:only-of-type {\n",
       "        vertical-align: middle;\n",
       "    }\n",
       "\n",
       "    .dataframe tbody tr th {\n",
       "        vertical-align: top;\n",
       "    }\n",
       "\n",
       "    .dataframe thead th {\n",
       "        text-align: right;\n",
       "    }\n",
       "</style>\n",
       "<table border=\"1\" class=\"dataframe\">\n",
       "  <thead>\n",
       "    <tr style=\"text-align: right;\">\n",
       "      <th></th>\n",
       "      <th>Name</th>\n",
       "      <th>Address</th>\n",
       "      <th>Latitude</th>\n",
       "      <th>Longitude</th>\n",
       "    </tr>\n",
       "  </thead>\n",
       "  <tbody>\n",
       "    <tr>\n",
       "      <td>0</td>\n",
       "      <td>Emperor Cinemas - Entertainment Building</td>\n",
       "      <td>3/F, Emperor Cinemas Entertainment Building, 3...</td>\n",
       "      <td>NaN</td>\n",
       "      <td>NaN</td>\n",
       "    </tr>\n",
       "    <tr>\n",
       "      <td>1</td>\n",
       "      <td>Emperor Cinemas - Entertainment Building</td>\n",
       "      <td>L2, MOSTown, Sai Sha Road, Ma On Shan, N.T.</td>\n",
       "      <td>NaN</td>\n",
       "      <td>NaN</td>\n",
       "    </tr>\n",
       "    <tr>\n",
       "      <td>2</td>\n",
       "      <td>Emperor Cinemas - Tuen Mun</td>\n",
       "      <td>3/F, New Town Commercial Arcade, 2 Tuen Lee St...</td>\n",
       "      <td>NaN</td>\n",
       "      <td>NaN</td>\n",
       "    </tr>\n",
       "    <tr>\n",
       "      <td>4</td>\n",
       "      <td>Festival Grand Cinema</td>\n",
       "      <td>Level UG, Festival Walk, 80 Tat Chee Avenue, K...</td>\n",
       "      <td>NaN</td>\n",
       "      <td>NaN</td>\n",
       "    </tr>\n",
       "    <tr>\n",
       "      <td>5</td>\n",
       "      <td>Grand Kornhill Cinema</td>\n",
       "      <td>4/F, Kornhill Plaza South, 2 Kornhill Road, Qu...</td>\n",
       "      <td>NaN</td>\n",
       "      <td>NaN</td>\n",
       "    </tr>\n",
       "  </tbody>\n",
       "</table>\n",
       "</div>"
      ],
      "text/plain": [
       "                                       Name  \\\n",
       "0  Emperor Cinemas - Entertainment Building   \n",
       "1  Emperor Cinemas - Entertainment Building   \n",
       "2                Emperor Cinemas - Tuen Mun   \n",
       "4                     Festival Grand Cinema   \n",
       "5                     Grand Kornhill Cinema   \n",
       "\n",
       "                                             Address  Latitude  Longitude  \n",
       "0  3/F, Emperor Cinemas Entertainment Building, 3...       NaN        NaN  \n",
       "1        L2, MOSTown, Sai Sha Road, Ma On Shan, N.T.       NaN        NaN  \n",
       "2  3/F, New Town Commercial Arcade, 2 Tuen Lee St...       NaN        NaN  \n",
       "4  Level UG, Festival Walk, 80 Tat Chee Avenue, K...       NaN        NaN  \n",
       "5  4/F, Kornhill Plaza South, 2 Kornhill Road, Qu...       NaN        NaN  "
      ]
     },
     "execution_count": 38,
     "metadata": {},
     "output_type": "execute_result"
    }
   ],
   "source": [
    "df_cinemas.head()"
   ]
  },
  {
   "cell_type": "markdown",
   "metadata": {},
   "source": [
    "\n",
    "Check the shape of cinemas dataset"
   ]
  },
  {
   "cell_type": "code",
   "execution_count": 39,
   "metadata": {},
   "outputs": [
    {
     "data": {
      "text/plain": [
       "(63, 4)"
      ]
     },
     "execution_count": 39,
     "metadata": {},
     "output_type": "execute_result"
    }
   ],
   "source": [
    "df_cinemas.shape"
   ]
  },
  {
   "cell_type": "markdown",
   "metadata": {},
   "source": [
    "\n",
    "Now I can use the FourSquare API to explore nearby venues of Hong Kong cinemas"
   ]
  },
  {
   "cell_type": "code",
   "execution_count": null,
   "metadata": {},
   "outputs": [],
   "source": [
    "from pathlib import Path\n",
    "\n",
    "venues_csv = Path('./cinemas_venues.csv')\n",
    "df_venues = None\n",
    "\n",
    "# check the venues data is explored and downloaded \n",
    "if( venues_csv.exists() ):\n",
    "    df_venues = pd.read_csv('./cinemas_venues.csv')\n",
    "else:    \n",
    "    # construct a dataframe to store data\n",
    "    df_venues = pd.DataFrame(columns=['Cinema Name', 'Category', 'Name', 'Latitude', 'Longitude', 'Tips', 'Users', 'Visits'])\n",
    "    for (name, address, latitude, longitude) in df_cinemas.itertuples(index=False):\n",
    "        for cat, cat_id in fs_categories.items():\n",
    "            df = venues_nearby(latitude, longitude, cat, verbose=False)\n",
    "            df['Cinema Name'] = name\n",
    "            df['Category'] = cat\n",
    "            df_venues = df_venues.append(df, sort=True)\n",
    "    df_venues.to_csv('cinemas_venues.csv', index=False)"
   ]
  },
  {
   "cell_type": "code",
   "execution_count": null,
   "metadata": {},
   "outputs": [],
   "source": [
    "print('Total {} of venues are found'.format(len(df_venues)))"
   ]
  },
  {
   "cell_type": "code",
   "execution_count": null,
   "metadata": {},
   "outputs": [],
   "source": [
    "# check the shape of data\n",
    "df_venues.shape"
   ]
  },
  {
   "cell_type": "code",
   "execution_count": null,
   "metadata": {},
   "outputs": [],
   "source": [
    "# check some data\n",
    "df_venues.head()"
   ]
  },
  {
   "cell_type": "markdown",
   "metadata": {},
   "source": [
    "Number of venues in each category"
   ]
  },
  {
   "cell_type": "code",
   "execution_count": null,
   "metadata": {},
   "outputs": [],
   "source": [
    "\n",
    "df_venues['Category'].value_counts().to_frame(name='Count')"
   ]
  },
  {
   "cell_type": "code",
   "execution_count": null,
   "metadata": {},
   "outputs": [],
   "source": [
    "\n",
    "df_venues[(df_venues.Tips > 0)|(df_venues.Users > 0)|(df_venues.Visits > 0)]"
   ]
  },
  {
   "cell_type": "code",
   "execution_count": null,
   "metadata": {},
   "outputs": [],
   "source": [
    "df_venues.drop(columns=['Tips','Users','Visits'], inplace=True)"
   ]
  },
  {
   "cell_type": "code",
   "execution_count": null,
   "metadata": {},
   "outputs": [],
   "source": [
    "df_venues[df_venues.Category=='Nightlife Spot']"
   ]
  },
  {
   "cell_type": "code",
   "execution_count": null,
   "metadata": {},
   "outputs": [],
   "source": [
    "\n",
    "df_venues.drop(index=87, inplace=True)"
   ]
  },
  {
   "cell_type": "markdown",
   "metadata": {},
   "source": [
    "Comapred with other categories, only one 'Nightlife Spot' venue. This category is removed."
   ]
  },
  {
   "cell_type": "code",
   "execution_count": null,
   "metadata": {},
   "outputs": [],
   "source": [
    "df_venues.shape"
   ]
  },
  {
   "cell_type": "markdown",
   "metadata": {},
   "source": [
    "Explore nearby venues of 5 possible/target locations"
   ]
  },
  {
   "cell_type": "code",
   "execution_count": null,
   "metadata": {},
   "outputs": [],
   "source": [
    "df_target_venues.head()"
   ]
  },
  {
   "cell_type": "code",
   "execution_count": null,
   "metadata": {},
   "outputs": [],
   "source": [
    "df_target_venues[(df_target_venues.Tips > 0)|(df_target_venues.Users > 0)|(df_target_venues.Visits > 0)]"
   ]
  },
  {
   "cell_type": "code",
   "execution_count": null,
   "metadata": {},
   "outputs": [],
   "source": [
    "\n",
    "df_target_venues.drop(columns=['Tips','Users','Visits'], inplace=True)"
   ]
  },
  {
   "cell_type": "code",
   "execution_count": null,
   "metadata": {},
   "outputs": [],
   "source": [
    "\n",
    "df_target_venues['Category'].value_counts().to_frame(name='Count')"
   ]
  },
  {
   "cell_type": "markdown",
   "metadata": {},
   "source": [
    "No venue is found for 'Nightlife Spot' category"
   ]
  },
  {
   "cell_type": "code",
   "execution_count": null,
   "metadata": {},
   "outputs": [],
   "source": [
    "df_target_venues.shape"
   ]
  },
  {
   "cell_type": "markdown",
   "metadata": {},
   "source": [
    "I only interested in number of venues in each category of dataframe."
   ]
  },
  {
   "cell_type": "code",
   "execution_count": null,
   "metadata": {},
   "outputs": [],
   "source": [
    "df_venues_count = df_venues.groupby(['Cinema Name','Category'], as_index=False).count()\n",
    "df_venues_count.drop(columns=['Latitude','Longitude'], inplace=True)\n",
    "df_venues_count.rename(columns={'Name':'Count'}, inplace=True)\n",
    "df_venues_count.head()"
   ]
  },
  {
   "cell_type": "code",
   "execution_count": null,
   "metadata": {},
   "outputs": [],
   "source": [
    "df_venues_count = df_venues_count.pivot(index='Cinema Name', columns='Category', values='Count').fillna(0)\n",
    "df_venues_count.head()"
   ]
  },
  {
   "cell_type": "code",
   "execution_count": null,
   "metadata": {},
   "outputs": [],
   "source": [
    "# Do the same process on target locations\n",
    "df_target_venues_count = df_target_venues.groupby(['Location','Category']).size().reset_index(name='Count')\n",
    "df_target_venues_count = df_target_venues_count.pivot(index='Location', columns='Category', values='Count').fillna(0)"
   ]
  },
  {
   "cell_type": "code",
   "execution_count": null,
   "metadata": {},
   "outputs": [],
   "source": [
    "\n",
    "df_target_venues_count"
   ]
  },
  {
   "cell_type": "markdown",
   "metadata": {},
   "source": [
    "Check most preffered  favorite cinema list"
   ]
  },
  {
   "cell_type": "code",
   "execution_count": 42,
   "metadata": {},
   "outputs": [
    {
     "data": {
      "text/plain": [
       "[{'Name': 'Broadway Circuit - MONGKOK', 'Rating': 4.5},\n",
       " {'Name': 'Broadway Circuit - The ONE', 'Rating': 4.5},\n",
       " {'Name': 'Grand Ocean', 'Rating': 4.3},\n",
       " {'Name': 'The Grand Cinema', 'Rating': 3.4},\n",
       " {'Name': 'AMC Pacific Place', 'Rating': 2.3},\n",
       " {'Name': 'UA IMAX @ Airport', 'Rating': 1.5}]"
      ]
     },
     "execution_count": 42,
     "metadata": {},
     "output_type": "execute_result"
    }
   ],
   "source": [
    "favorite"
   ]
  },
  {
   "cell_type": "markdown",
   "metadata": {},
   "source": [
    "check most preffered cinemas are inside the Tokyo cinemas dataset"
   ]
  },
  {
   "cell_type": "markdown",
   "metadata": {},
   "source": [
    "Check Tokyo cinema list contains all stakeholder's most liked cinema"
   ]
  },
  {
   "cell_type": "code",
   "execution_count": 43,
   "metadata": {},
   "outputs": [
    {
     "data": {
      "text/html": [
       "<div>\n",
       "<style scoped>\n",
       "    .dataframe tbody tr th:only-of-type {\n",
       "        vertical-align: middle;\n",
       "    }\n",
       "\n",
       "    .dataframe tbody tr th {\n",
       "        vertical-align: top;\n",
       "    }\n",
       "\n",
       "    .dataframe thead th {\n",
       "        text-align: right;\n",
       "    }\n",
       "</style>\n",
       "<table border=\"1\" class=\"dataframe\">\n",
       "  <thead>\n",
       "    <tr style=\"text-align: right;\">\n",
       "      <th></th>\n",
       "      <th>Name</th>\n",
       "      <th>Address</th>\n",
       "      <th>Latitude</th>\n",
       "      <th>Longitude</th>\n",
       "    </tr>\n",
       "  </thead>\n",
       "  <tbody>\n",
       "    <tr>\n",
       "      <td>23</td>\n",
       "      <td>Broadway Circuit - MONGKOK</td>\n",
       "      <td>6-12 Sai Yeung Choi Street, Mongkok, Kowloon</td>\n",
       "      <td>NaN</td>\n",
       "      <td>NaN</td>\n",
       "    </tr>\n",
       "    <tr>\n",
       "      <td>24</td>\n",
       "      <td>Broadway Circuit - The ONE</td>\n",
       "      <td>6-11/F, The ONE, No. 100 Nathan Road, Tsim Sha...</td>\n",
       "      <td>NaN</td>\n",
       "      <td>NaN</td>\n",
       "    </tr>\n",
       "    <tr>\n",
       "      <td>29</td>\n",
       "      <td>The Grand Cinema</td>\n",
       "      <td>L1-L4 Metroplaza, 223 Hing Fong Road, Kwai Fon...</td>\n",
       "      <td>NaN</td>\n",
       "      <td>NaN</td>\n",
       "    </tr>\n",
       "    <tr>\n",
       "      <td>32</td>\n",
       "      <td>AMC Pacific Place</td>\n",
       "      <td>Level 1, Pacific Place, 88 Queensway Road, Hon...</td>\n",
       "      <td>NaN</td>\n",
       "      <td>NaN</td>\n",
       "    </tr>\n",
       "    <tr>\n",
       "      <td>40</td>\n",
       "      <td>Grand Ocean</td>\n",
       "      <td>Ocean Centre, 3 Canton Road, Kowloon</td>\n",
       "      <td>NaN</td>\n",
       "      <td>NaN</td>\n",
       "    </tr>\n",
       "    <tr>\n",
       "      <td>55</td>\n",
       "      <td>UA IMAX @ Airport</td>\n",
       "      <td>6P059, Level 6, Terminal 2, 1 Sky Plaza Road, ...</td>\n",
       "      <td>NaN</td>\n",
       "      <td>NaN</td>\n",
       "    </tr>\n",
       "  </tbody>\n",
       "</table>\n",
       "</div>"
      ],
      "text/plain": [
       "                          Name  \\\n",
       "23  Broadway Circuit - MONGKOK   \n",
       "24  Broadway Circuit - The ONE   \n",
       "29            The Grand Cinema   \n",
       "32           AMC Pacific Place   \n",
       "40                 Grand Ocean   \n",
       "55           UA IMAX @ Airport   \n",
       "\n",
       "                                              Address  Latitude  Longitude  \n",
       "23       6-12 Sai Yeung Choi Street, Mongkok, Kowloon       NaN        NaN  \n",
       "24  6-11/F, The ONE, No. 100 Nathan Road, Tsim Sha...       NaN        NaN  \n",
       "29  L1-L4 Metroplaza, 223 Hing Fong Road, Kwai Fon...       NaN        NaN  \n",
       "32  Level 1, Pacific Place, 88 Queensway Road, Hon...       NaN        NaN  \n",
       "40               Ocean Centre, 3 Canton Road, Kowloon       NaN        NaN  \n",
       "55  6P059, Level 6, Terminal 2, 1 Sky Plaza Road, ...       NaN        NaN  "
      ]
     },
     "execution_count": 43,
     "metadata": {},
     "output_type": "execute_result"
    }
   ],
   "source": [
    "names = [ cinema['Name'] for cinema in favorite ]\n",
    "df_cinemas[df_cinemas.Name.isin(names)]"
   ]
  },
  {
   "cell_type": "markdown",
   "metadata": {},
   "source": [
    "Stakholder's favorite cinema list"
   ]
  },
  {
   "cell_type": "code",
   "execution_count": 44,
   "metadata": {},
   "outputs": [
    {
     "data": {
      "text/html": [
       "<div>\n",
       "<style scoped>\n",
       "    .dataframe tbody tr th:only-of-type {\n",
       "        vertical-align: middle;\n",
       "    }\n",
       "\n",
       "    .dataframe tbody tr th {\n",
       "        vertical-align: top;\n",
       "    }\n",
       "\n",
       "    .dataframe thead th {\n",
       "        text-align: right;\n",
       "    }\n",
       "</style>\n",
       "<table border=\"1\" class=\"dataframe\">\n",
       "  <thead>\n",
       "    <tr style=\"text-align: right;\">\n",
       "      <th></th>\n",
       "      <th>Name</th>\n",
       "      <th>Rating</th>\n",
       "    </tr>\n",
       "  </thead>\n",
       "  <tbody>\n",
       "    <tr>\n",
       "      <td>0</td>\n",
       "      <td>Broadway Circuit - MONGKOK</td>\n",
       "      <td>4.5</td>\n",
       "    </tr>\n",
       "    <tr>\n",
       "      <td>1</td>\n",
       "      <td>Broadway Circuit - The ONE</td>\n",
       "      <td>4.5</td>\n",
       "    </tr>\n",
       "    <tr>\n",
       "      <td>2</td>\n",
       "      <td>Grand Ocean</td>\n",
       "      <td>4.3</td>\n",
       "    </tr>\n",
       "    <tr>\n",
       "      <td>3</td>\n",
       "      <td>The Grand Cinema</td>\n",
       "      <td>3.4</td>\n",
       "    </tr>\n",
       "    <tr>\n",
       "      <td>4</td>\n",
       "      <td>AMC Pacific Place</td>\n",
       "      <td>2.3</td>\n",
       "    </tr>\n",
       "    <tr>\n",
       "      <td>5</td>\n",
       "      <td>UA IMAX @ Airport</td>\n",
       "      <td>1.5</td>\n",
       "    </tr>\n",
       "  </tbody>\n",
       "</table>\n",
       "</div>"
      ],
      "text/plain": [
       "                         Name  Rating\n",
       "0  Broadway Circuit - MONGKOK     4.5\n",
       "1  Broadway Circuit - The ONE     4.5\n",
       "2                 Grand Ocean     4.3\n",
       "3            The Grand Cinema     3.4\n",
       "4           AMC Pacific Place     2.3\n",
       "5           UA IMAX @ Airport     1.5"
      ]
     },
     "execution_count": 44,
     "metadata": {},
     "output_type": "execute_result"
    }
   ],
   "source": [
    "df_favorite = pd.DataFrame(favorite, columns=['Name','Rating'])\n",
    "df_favorite"
   ]
  },
  {
   "cell_type": "markdown",
   "metadata": {},
   "source": [
    "<h2>Data Analysis</h2>"
   ]
  },
  {
   "cell_type": "code",
   "execution_count": 45,
   "metadata": {},
   "outputs": [
    {
     "name": "stdout",
     "output_type": "stream",
     "text": [
      "Solving environment: done\n",
      "\n",
      "\n",
      "==> WARNING: A newer version of conda exists. <==\n",
      "  current version: 4.5.11\n",
      "  latest version: 4.7.12\n",
      "\n",
      "Please update conda by running\n",
      "\n",
      "    $ conda update -n base -c defaults conda\n",
      "\n",
      "\n",
      "\n",
      "## Package Plan ##\n",
      "\n",
      "  environment location: /home/jupyterlab/conda/envs/python\n",
      "\n",
      "  added / updated specs: \n",
      "    - seaborn=0.9\n",
      "\n",
      "\n",
      "The following packages will be downloaded:\n",
      "\n",
      "    package                    |            build\n",
      "    ---------------------------|-----------------\n",
      "    matplotlib-2.2.2           |   py36hb69df0a_2         6.6 MB\n",
      "    seaborn-0.9.0              |           py36_0         379 KB\n",
      "    openssl-1.1.1d             |       h7b6447c_2         3.7 MB\n",
      "    certifi-2019.9.11          |           py36_0         154 KB\n",
      "    sip-4.18.1                 |   py36hf484d3e_2         278 KB\n",
      "    qt-5.6.3                   |       h8bf5577_3        45.7 MB\n",
      "    pyqt-5.6.0                 |   py36h22d08a2_6         5.4 MB\n",
      "    ------------------------------------------------------------\n",
      "                                           Total:        62.3 MB\n",
      "\n",
      "The following packages will be UPDATED:\n",
      "\n",
      "    certifi:    2019.6.16-py36_1      conda-forge --> 2019.9.11-py36_0     \n",
      "    openssl:    1.1.1c-h516909a_0     conda-forge --> 1.1.1d-h7b6447c_2    \n",
      "\n",
      "The following packages will be DOWNGRADED:\n",
      "\n",
      "    matplotlib: 2.2.3-py37hb69df0a_0              --> 2.2.2-py36hb69df0a_2 \n",
      "    pyqt:       5.9.2-py37h05f1152_2              --> 5.6.0-py36h22d08a2_6 \n",
      "    qt:         5.9.6-h8703b6f_2                  --> 5.6.3-h8bf5577_3     \n",
      "    seaborn:    0.9.0-py_1            conda-forge --> 0.9.0-py36_0         \n",
      "    sip:        4.19.8-py37hf484d3e_0             --> 4.18.1-py36hf484d3e_2\n",
      "\n",
      "\n",
      "Downloading and Extracting Packages\n",
      "matplotlib-2.2.2     | 6.6 MB    | ##################################### | 100% \n",
      "seaborn-0.9.0        | 379 KB    | ##################################### | 100% \n",
      "openssl-1.1.1d       | 3.7 MB    | ##################################### | 100% \n",
      "certifi-2019.9.11    | 154 KB    | ##################################### | 100% \n",
      "sip-4.18.1           | 278 KB    | ##################################### | 100% \n",
      "qt-5.6.3             | 45.7 MB   | ##################################### | 100% \n",
      "pyqt-5.6.0           | 5.4 MB    | ##################################### | 100% \n",
      "Preparing transaction: done\n",
      "Verifying transaction: done\n",
      "Executing transaction: done\n"
     ]
    }
   ],
   "source": [
    "\n",
    "!conda install seaborn=0.9 --yes"
   ]
  },
  {
   "cell_type": "code",
   "execution_count": 46,
   "metadata": {},
   "outputs": [
    {
     "name": "stderr",
     "output_type": "stream",
     "text": [
      "/home/jupyterlab/conda/envs/python/lib/python3.6/site-packages/matplotlib/contour.py:25: MatplotlibDeprecationWarning: \n",
      "The mkdirs function was deprecated in Matplotlib 3.0 and will be removed in 3.2.\n",
      "  import matplotlib.texmanager as texmanager\n"
     ]
    },
    {
     "ename": "AttributeError",
     "evalue": "module 'matplotlib' has no attribute '_get_configdir'",
     "output_type": "error",
     "traceback": [
      "\u001b[0;31m---------------------------------------------------------------------------\u001b[0m",
      "\u001b[0;31mAttributeError\u001b[0m                            Traceback (most recent call last)",
      "\u001b[0;32m<ipython-input-46-64696823f4fa>\u001b[0m in \u001b[0;36m<module>\u001b[0;34m\u001b[0m\n\u001b[1;32m      1\u001b[0m \u001b[0;32mimport\u001b[0m \u001b[0mmatplotlib\u001b[0m\u001b[0;34m\u001b[0m\u001b[0;34m\u001b[0m\u001b[0m\n\u001b[0;32m----> 2\u001b[0;31m \u001b[0;32mimport\u001b[0m \u001b[0mmatplotlib\u001b[0m\u001b[0;34m.\u001b[0m\u001b[0mpyplot\u001b[0m \u001b[0;32mas\u001b[0m \u001b[0mplt\u001b[0m\u001b[0;34m\u001b[0m\u001b[0;34m\u001b[0m\u001b[0m\n\u001b[0m\u001b[1;32m      3\u001b[0m \u001b[0;32mimport\u001b[0m \u001b[0mseaborn\u001b[0m \u001b[0;32mas\u001b[0m \u001b[0msns\u001b[0m\u001b[0;34m\u001b[0m\u001b[0;34m\u001b[0m\u001b[0m\n\u001b[1;32m      4\u001b[0m \u001b[0mget_ipython\u001b[0m\u001b[0;34m(\u001b[0m\u001b[0;34m)\u001b[0m\u001b[0;34m.\u001b[0m\u001b[0mrun_line_magic\u001b[0m\u001b[0;34m(\u001b[0m\u001b[0;34m'matplotlib'\u001b[0m\u001b[0;34m,\u001b[0m \u001b[0;34m'inline'\u001b[0m\u001b[0;34m)\u001b[0m\u001b[0;34m\u001b[0m\u001b[0;34m\u001b[0m\u001b[0m\n",
      "\u001b[0;32m~/conda/envs/python/lib/python3.6/site-packages/matplotlib/pyplot.py\u001b[0m in \u001b[0;36m<module>\u001b[0;34m\u001b[0m\n\u001b[1;32m     30\u001b[0m \u001b[0;32mimport\u001b[0m \u001b[0mmatplotlib\u001b[0m\u001b[0;34m\u001b[0m\u001b[0;34m\u001b[0m\u001b[0m\n\u001b[1;32m     31\u001b[0m \u001b[0;32mimport\u001b[0m \u001b[0mmatplotlib\u001b[0m\u001b[0;34m.\u001b[0m\u001b[0mcolorbar\u001b[0m\u001b[0;34m\u001b[0m\u001b[0;34m\u001b[0m\u001b[0m\n\u001b[0;32m---> 32\u001b[0;31m \u001b[0;32mfrom\u001b[0m \u001b[0mmatplotlib\u001b[0m \u001b[0;32mimport\u001b[0m \u001b[0mstyle\u001b[0m\u001b[0;34m\u001b[0m\u001b[0;34m\u001b[0m\u001b[0m\n\u001b[0m\u001b[1;32m     33\u001b[0m \u001b[0;32mfrom\u001b[0m \u001b[0mmatplotlib\u001b[0m \u001b[0;32mimport\u001b[0m \u001b[0m_pylab_helpers\u001b[0m\u001b[0;34m,\u001b[0m \u001b[0minteractive\u001b[0m\u001b[0;34m\u001b[0m\u001b[0;34m\u001b[0m\u001b[0m\n\u001b[1;32m     34\u001b[0m \u001b[0;32mfrom\u001b[0m \u001b[0mmatplotlib\u001b[0m\u001b[0;34m.\u001b[0m\u001b[0mcbook\u001b[0m \u001b[0;32mimport\u001b[0m \u001b[0mdedent\u001b[0m\u001b[0;34m,\u001b[0m \u001b[0msilent_list\u001b[0m\u001b[0;34m,\u001b[0m \u001b[0mis_numlike\u001b[0m\u001b[0;34m\u001b[0m\u001b[0;34m\u001b[0m\u001b[0m\n",
      "\u001b[0;32m~/conda/envs/python/lib/python3.6/site-packages/matplotlib/style/__init__.py\u001b[0m in \u001b[0;36m<module>\u001b[0;34m\u001b[0m\n\u001b[1;32m      1\u001b[0m \u001b[0;32mfrom\u001b[0m \u001b[0m__future__\u001b[0m \u001b[0;32mimport\u001b[0m \u001b[0mabsolute_import\u001b[0m\u001b[0;34m\u001b[0m\u001b[0;34m\u001b[0m\u001b[0m\n\u001b[1;32m      2\u001b[0m \u001b[0;34m\u001b[0m\u001b[0m\n\u001b[0;32m----> 3\u001b[0;31m \u001b[0;32mfrom\u001b[0m \u001b[0;34m.\u001b[0m\u001b[0mcore\u001b[0m \u001b[0;32mimport\u001b[0m \u001b[0muse\u001b[0m\u001b[0;34m,\u001b[0m \u001b[0mcontext\u001b[0m\u001b[0;34m,\u001b[0m \u001b[0mavailable\u001b[0m\u001b[0;34m,\u001b[0m \u001b[0mlibrary\u001b[0m\u001b[0;34m,\u001b[0m \u001b[0mreload_library\u001b[0m\u001b[0;34m\u001b[0m\u001b[0;34m\u001b[0m\u001b[0m\n\u001b[0m",
      "\u001b[0;32m~/conda/envs/python/lib/python3.6/site-packages/matplotlib/style/core.py\u001b[0m in \u001b[0;36m<module>\u001b[0;34m\u001b[0m\n\u001b[1;32m     29\u001b[0m \u001b[0mBASE_LIBRARY_PATH\u001b[0m \u001b[0;34m=\u001b[0m \u001b[0mos\u001b[0m\u001b[0;34m.\u001b[0m\u001b[0mpath\u001b[0m\u001b[0;34m.\u001b[0m\u001b[0mjoin\u001b[0m\u001b[0;34m(\u001b[0m\u001b[0mmpl\u001b[0m\u001b[0;34m.\u001b[0m\u001b[0mget_data_path\u001b[0m\u001b[0;34m(\u001b[0m\u001b[0;34m)\u001b[0m\u001b[0;34m,\u001b[0m \u001b[0;34m'stylelib'\u001b[0m\u001b[0;34m)\u001b[0m\u001b[0;34m\u001b[0m\u001b[0;34m\u001b[0m\u001b[0m\n\u001b[1;32m     30\u001b[0m \u001b[0;31m# Users may want multiple library paths, so store a list of paths.\u001b[0m\u001b[0;34m\u001b[0m\u001b[0;34m\u001b[0m\u001b[0;34m\u001b[0m\u001b[0m\n\u001b[0;32m---> 31\u001b[0;31m \u001b[0mUSER_LIBRARY_PATHS\u001b[0m \u001b[0;34m=\u001b[0m \u001b[0;34m[\u001b[0m\u001b[0mos\u001b[0m\u001b[0;34m.\u001b[0m\u001b[0mpath\u001b[0m\u001b[0;34m.\u001b[0m\u001b[0mjoin\u001b[0m\u001b[0;34m(\u001b[0m\u001b[0mmpl\u001b[0m\u001b[0;34m.\u001b[0m\u001b[0m_get_configdir\u001b[0m\u001b[0;34m(\u001b[0m\u001b[0;34m)\u001b[0m\u001b[0;34m,\u001b[0m \u001b[0;34m'stylelib'\u001b[0m\u001b[0;34m)\u001b[0m\u001b[0;34m]\u001b[0m\u001b[0;34m\u001b[0m\u001b[0;34m\u001b[0m\u001b[0m\n\u001b[0m\u001b[1;32m     32\u001b[0m \u001b[0mSTYLE_EXTENSION\u001b[0m \u001b[0;34m=\u001b[0m \u001b[0;34m'mplstyle'\u001b[0m\u001b[0;34m\u001b[0m\u001b[0;34m\u001b[0m\u001b[0m\n\u001b[1;32m     33\u001b[0m \u001b[0mSTYLE_FILE_PATTERN\u001b[0m \u001b[0;34m=\u001b[0m \u001b[0mre\u001b[0m\u001b[0;34m.\u001b[0m\u001b[0mcompile\u001b[0m\u001b[0;34m(\u001b[0m\u001b[0;34mr'([\\S]+).%s$'\u001b[0m \u001b[0;34m%\u001b[0m \u001b[0mSTYLE_EXTENSION\u001b[0m\u001b[0;34m)\u001b[0m\u001b[0;34m\u001b[0m\u001b[0;34m\u001b[0m\u001b[0m\n",
      "\u001b[0;31mAttributeError\u001b[0m: module 'matplotlib' has no attribute '_get_configdir'"
     ]
    }
   ],
   "source": [
    "import matplotlib\n",
    "import matplotlib.pyplot as plt\n",
    "import seaborn as sns\n",
    "%matplotlib inline"
   ]
  },
  {
   "cell_type": "code",
   "execution_count": null,
   "metadata": {},
   "outputs": [],
   "source": [
    "df_venues_count.dtypes.to_frame(name='Data Type')"
   ]
  },
  {
   "cell_type": "markdown",
   "metadata": {},
   "source": [
    "All datatype is numeric\n",
    "\n",
    "Generates descriptive statistics that summarize the central tendency, dispersion and shape of a dataset's distribution"
   ]
  },
  {
   "cell_type": "code",
   "execution_count": null,
   "metadata": {},
   "outputs": [],
   "source": [
    "df_venues_count.describe()"
   ]
  },
  {
   "cell_type": "markdown",
   "metadata": {},
   "source": [
    "\n",
    "Cinema really has many 'Bus Stop', 'Food', 'Shop & Service' venues around. However it is unusual that a cinema has 4 metro stations nearby (within 500 meters)."
   ]
  },
  {
   "cell_type": "code",
   "execution_count": null,
   "metadata": {},
   "outputs": [],
   "source": [
    "df_venues_count['Metro Station'].value_counts().sort_index().to_frame('Cinema Count')"
   ]
  },
  {
   "cell_type": "markdown",
   "metadata": {},
   "source": [
    "One cinema contains 4 Metro Station around"
   ]
  },
  {
   "cell_type": "code",
   "execution_count": null,
   "metadata": {},
   "outputs": [],
   "source": [
    "\n",
    "df_venues_count[df_venues_count['Metro Station'] > 2]"
   ]
  },
  {
   "cell_type": "code",
   "execution_count": null,
   "metadata": {},
   "outputs": [],
   "source": [
    "metro_over_2 = df_venues_count[df_venues_count['Metro Station'] > 2].index.tolist()\n",
    "df_venues[(df_venues['Cinema Name'].isin(metro_over_2)) & (df_venues.Category == 'Metro Station')]"
   ]
  },
  {
   "cell_type": "code",
   "execution_count": null,
   "metadata": {},
   "outputs": [],
   "source": [
    "Venue 'Mtr Hung Hom Station Platform 4' is duplicated and should be removed."
   ]
  },
  {
   "cell_type": "code",
   "execution_count": null,
   "metadata": {},
   "outputs": [],
   "source": [
    "df_venues.loc[2182, 'Name'] = 'MTR Hung Hom Station'"
   ]
  },
  {
   "cell_type": "code",
   "execution_count": null,
   "metadata": {},
   "outputs": [],
   "source": [
    "df_venues.drop(index=2183, inplace=True)"
   ]
  },
  {
   "cell_type": "markdown",
   "metadata": {},
   "source": [
    "Re-construct the dataframe again"
   ]
  },
  {
   "cell_type": "code",
   "execution_count": null,
   "metadata": {},
   "outputs": [],
   "source": [
    "df_venues_count = df_venues.groupby(['Cinema Name','Category'], as_index=False).count()\n",
    "df_venues_count.drop(columns=['Latitude','Longitude'], inplace=True)\n",
    "df_venues_count.rename(columns={'Name':'Count'}, inplace=True)\n",
    "df_venues_count = df_venues_count.pivot(index='Cinema Name', columns='Category', values='Count').fillna(0)\n",
    "df_venues_count.head()"
   ]
  },
  {
   "cell_type": "markdown",
   "metadata": {},
   "source": [
    "Plot the distribution of other variables"
   ]
  },
  {
   "cell_type": "code",
   "execution_count": null,
   "metadata": {},
   "outputs": [],
   "source": [
    "f, axes = plt.subplots(2, 2, figsize=(10, 10))\n",
    "sns.distplot(df_venues_count['Arts & Entertainment'] , color=\"skyblue\", ax=axes[0, 0], kde=False)\n",
    "sns.distplot(df_venues_count['Bus Stop'] , color=\"olive\", ax=axes[0, 1], kde=False)\n",
    "sns.distplot(df_venues_count['Food'] , color=\"gold\", ax=axes[1, 0], kde=False)\n",
    "sns.distplot(df_venues_count['Shop & Service'] , color=\"teal\", ax=axes[1, 1], kde=False)"
   ]
  },
  {
   "cell_type": "markdown",
   "metadata": {},
   "source": [
    "The distribution of other variables are quite similar. Now check their Pearson Correlation"
   ]
  },
  {
   "cell_type": "code",
   "execution_count": null,
   "metadata": {},
   "outputs": [],
   "source": [
    "df_venues_count.corr()"
   ]
  },
  {
   "cell_type": "markdown",
   "metadata": {},
   "source": [
    "\n",
    "It seems that 'Bus Stop', 'Shop & Service' and 'Food' category are highly correlated.\n",
    "Find P-Value of the variables\n",
    "\n",
    "By convention, when the p-value is:\n",
    "\n",
    "< 0.001 we say there is strong evidence that the correlation is significant,\n",
    "< 0.05; there is moderate evidence that the correlation is significant,\n",
    "< 0.1; there is weak evidence that the correlation is significant, and\n",
    "is > 0.1; there is no evidence that the correlation is significant"
   ]
  },
  {
   "cell_type": "code",
   "execution_count": 47,
   "metadata": {},
   "outputs": [],
   "source": [
    "from scipy import stats"
   ]
  },
  {
   "cell_type": "code",
   "execution_count": null,
   "metadata": {},
   "outputs": [],
   "source": [
    "\n",
    "p_value_data = []\n",
    "for left in df_venues_count.columns:\n",
    "    p_values = [left]\n",
    "    for right in df_venues_count.columns:        \n",
    "        pearson_coef, p_value = stats.pearsonr(df_venues_count[left], df_venues_count[right])\n",
    "        if(p_value < 0.001):\n",
    "            p_values.append('strong')\n",
    "        elif(p_value < 0.05):\n",
    "            p_values.append('moderate')\n",
    "        elif(p_value < 0.1):\n",
    "            p_values.append('weak')\n",
    "        else:\n",
    "            p_values.append('no')            \n",
    "    p_value_data.append(p_values)"
   ]
  },
  {
   "cell_type": "code",
   "execution_count": null,
   "metadata": {},
   "outputs": [],
   "source": [
    "df_p_values = pd.DataFrame(p_value_data, columns=['Category'] + df_venues_count.columns.tolist())"
   ]
  },
  {
   "cell_type": "code",
   "execution_count": null,
   "metadata": {},
   "outputs": [],
   "source": [
    "df_p_values"
   ]
  },
  {
   "cell_type": "markdown",
   "metadata": {},
   "source": [
    "\n",
    "The correlation between 'Bus Stop', 'Food', 'Metro Station' and 'Shop & Service' are statistically significant, and the coefficient of > 0.5 shows that the relationship is positive"
   ]
  },
  {
   "cell_type": "code",
   "execution_count": 48,
   "metadata": {},
   "outputs": [
    {
     "data": {
      "text/html": [
       "<div>\n",
       "<style scoped>\n",
       "    .dataframe tbody tr th:only-of-type {\n",
       "        vertical-align: middle;\n",
       "    }\n",
       "\n",
       "    .dataframe tbody tr th {\n",
       "        vertical-align: top;\n",
       "    }\n",
       "\n",
       "    .dataframe thead th {\n",
       "        text-align: right;\n",
       "    }\n",
       "</style>\n",
       "<table border=\"1\" class=\"dataframe\">\n",
       "  <thead>\n",
       "    <tr style=\"text-align: right;\">\n",
       "      <th></th>\n",
       "      <th>Name</th>\n",
       "      <th>Rating</th>\n",
       "    </tr>\n",
       "  </thead>\n",
       "  <tbody>\n",
       "    <tr>\n",
       "      <td>0</td>\n",
       "      <td>Broadway Circuit - MONGKOK</td>\n",
       "      <td>4.5</td>\n",
       "    </tr>\n",
       "    <tr>\n",
       "      <td>1</td>\n",
       "      <td>Broadway Circuit - The ONE</td>\n",
       "      <td>4.5</td>\n",
       "    </tr>\n",
       "    <tr>\n",
       "      <td>2</td>\n",
       "      <td>Grand Ocean</td>\n",
       "      <td>4.3</td>\n",
       "    </tr>\n",
       "    <tr>\n",
       "      <td>3</td>\n",
       "      <td>The Grand Cinema</td>\n",
       "      <td>3.4</td>\n",
       "    </tr>\n",
       "    <tr>\n",
       "      <td>4</td>\n",
       "      <td>AMC Pacific Place</td>\n",
       "      <td>2.3</td>\n",
       "    </tr>\n",
       "    <tr>\n",
       "      <td>5</td>\n",
       "      <td>UA IMAX @ Airport</td>\n",
       "      <td>1.5</td>\n",
       "    </tr>\n",
       "  </tbody>\n",
       "</table>\n",
       "</div>"
      ],
      "text/plain": [
       "                         Name  Rating\n",
       "0  Broadway Circuit - MONGKOK     4.5\n",
       "1  Broadway Circuit - The ONE     4.5\n",
       "2                 Grand Ocean     4.3\n",
       "3            The Grand Cinema     3.4\n",
       "4           AMC Pacific Place     2.3\n",
       "5           UA IMAX @ Airport     1.5"
      ]
     },
     "execution_count": 48,
     "metadata": {},
     "output_type": "execute_result"
    }
   ],
   "source": [
    "df_favorite"
   ]
  },
  {
   "cell_type": "code",
   "execution_count": 49,
   "metadata": {},
   "outputs": [
    {
     "name": "stdout",
     "output_type": "stream",
     "text": [
      "Solving environment: done\n",
      "\n",
      "\n",
      "==> WARNING: A newer version of conda exists. <==\n",
      "  current version: 4.5.11\n",
      "  latest version: 4.7.12\n",
      "\n",
      "Please update conda by running\n",
      "\n",
      "    $ conda update -n base -c defaults conda\n",
      "\n",
      "\n",
      "\n",
      "## Package Plan ##\n",
      "\n",
      "  environment location: /home/jupyterlab/conda/envs/python\n",
      "\n",
      "  added / updated specs: \n",
      "    - folium=0.5\n",
      "\n",
      "\n",
      "The following packages will be downloaded:\n",
      "\n",
      "    package                    |            build\n",
      "    ---------------------------|-----------------\n",
      "    certifi-2019.9.11          |           py36_0         147 KB  conda-forge\n",
      "\n",
      "The following packages will be UPDATED:\n",
      "\n",
      "    certifi: 2019.9.11-py36_0  --> 2019.9.11-py36_0  conda-forge\n",
      "\n",
      "The following packages will be DOWNGRADED:\n",
      "\n",
      "    openssl: 1.1.1d-h7b6447c_2 --> 1.1.1c-h516909a_0 conda-forge\n",
      "\n",
      "\n",
      "Downloading and Extracting Packages\n",
      "certifi-2019.9.11    | 147 KB    | ##################################### | 100% \n",
      "Preparing transaction: done\n",
      "Verifying transaction: done\n",
      "Executing transaction: done\n",
      "Folium installed and imported!\n"
     ]
    }
   ],
   "source": [
    "!conda install -c conda-forge folium=0.5 --yes\n",
    "import folium\n",
    "\n",
    "print('Folium installed and imported!')"
   ]
  },
  {
   "cell_type": "code",
   "execution_count": 51,
   "metadata": {},
   "outputs": [
    {
     "ename": "NameError",
     "evalue": "name 'getLatLng' is not defined",
     "output_type": "error",
     "traceback": [
      "\u001b[0;31m---------------------------------------------------------------------------\u001b[0m",
      "\u001b[0;31mNameError\u001b[0m                                 Traceback (most recent call last)",
      "\u001b[0;32m<ipython-input-51-c8f97b8373df>\u001b[0m in \u001b[0;36m<module>\u001b[0;34m\u001b[0m\n\u001b[0;32m----> 1\u001b[0;31m \u001b[0mhk_coords\u001b[0m \u001b[0;34m=\u001b[0m \u001b[0mgetLatLng\u001b[0m\u001b[0;34m(\u001b[0m\u001b[0;34m'Tokyo'\u001b[0m\u001b[0;34m)\u001b[0m\u001b[0;34m\u001b[0m\u001b[0;34m\u001b[0m\u001b[0m\n\u001b[0m",
      "\u001b[0;31mNameError\u001b[0m: name 'getLatLng' is not defined"
     ]
    }
   ],
   "source": [
    "hk_coords = getLatLng('Tokyo')"
   ]
  },
  {
   "cell_type": "markdown",
   "metadata": {},
   "source": [
    "Visualize the location of cinemas, target location and stakeholder's favorite cineams on the map"
   ]
  },
  {
   "cell_type": "code",
   "execution_count": null,
   "metadata": {},
   "outputs": [],
   "source": [
    "hk_map = folium.Map(location=hk_coords, zoom_start=12, tiles='Stamen Toner')\n",
    "\n",
    "cinemas_fg = folium.FeatureGroup()\n",
    "targets_fg = folium.FeatureGroup()\n",
    "\n",
    "for(location, address, latitude, longitude) in df_possible_locations.itertuples(index=False):\n",
    "    targets_fg.add_child(\n",
    "        folium.features.CircleMarker(\n",
    "            location=(latitude, longitude),\n",
    "            popup=location,\n",
    "            radius=5,\n",
    "            fill=True,\n",
    "            color='yellow',\n",
    "            fill_opacity=1.\n",
    "        )\n",
    "    )\n",
    "\n",
    "boss_ratings = df_favorite.set_index('Name')    \n",
    "name_list = ratings.index.tolist()\n",
    "\n",
    "for (name, address, latitude, longitude ) in df_cinemas.itertuples(index=False):    \n",
    "    \n",
    "    color = 'blue'        \n",
    "    popup = name\n",
    "    \n",
    "    if( name in name_list ):\n",
    "        color = 'red'    \n",
    "        popup = '{} - Rating: {}'.format(name, boss_ratings.loc[name,'Rating'])\n",
    "        \n",
    "    cinemas_fg.add_child(        \n",
    "        folium.features.CircleMarker(\n",
    "            location=(latitude, longitude),\n",
    "            popup=popup,\n",
    "            radius=5,\n",
    "            fill=True,\n",
    "            color=color,\n",
    "            fill_opacity=1.\n",
    "        )\n",
    "    )\n",
    "\n",
    "hk_map.add_child(cinemas_fg)\n",
    "hk_map.add_child(targets_fg)"
   ]
  },
  {
   "cell_type": "markdown",
   "metadata": {},
   "source": [
    "Most of Tokyo cinemas (blue circle) and stakeholder's favorite cinemas (red circle) location are built near main road, and centralized in urban area of Tokyo. The target locations (yellow circle) of new cinema are not near to main road.\n",
    "\n",
    "Machine Learning\n",
    "Now, let's use Content-Based or Item-Item recommendation systems. In this case, I am going to try to figure out the boss's favorite new cinema location by counting number of nearby venues and ratings given.\n",
    "\n",
    "Normalize the values of venues dataframe by using MinMaxScaler method"
   ]
  },
  {
   "cell_type": "code",
   "execution_count": null,
   "metadata": {},
   "outputs": [],
   "source": [
    "df_venues_count.head()"
   ]
  },
  {
   "cell_type": "code",
   "execution_count": 52,
   "metadata": {},
   "outputs": [],
   "source": [
    "from sklearn.preprocessing import MinMaxScaler\n",
    "scaler = MinMaxScaler()"
   ]
  },
  {
   "cell_type": "code",
   "execution_count": null,
   "metadata": {},
   "outputs": [],
   "source": [
    "\n",
    "venues_normalized = scaler.fit_transform(df_venues_count)"
   ]
  },
  {
   "cell_type": "code",
   "execution_count": null,
   "metadata": {},
   "outputs": [],
   "source": [
    "\n",
    "df_venues_normalized = pd.DataFrame(\n",
    "    venues_normalized,\n",
    "    index=df_venues_count.index,\n",
    "    columns=df_venues_count.columns\n",
    ")"
   ]
  },
  {
   "cell_type": "code",
   "execution_count": null,
   "metadata": {},
   "outputs": [],
   "source": [
    "df_venues_normalized.head()"
   ]
  },
  {
   "cell_type": "markdown",
   "metadata": {},
   "source": [
    "Merge the data with  favorite list"
   ]
  },
  {
   "cell_type": "code",
   "execution_count": null,
   "metadata": {},
   "outputs": [],
   "source": [
    "boss_rating_table = pd.merge(\n",
    "    df_favorite,\n",
    "    df_venues_normalized,\n",
    "    how='inner',\n",
    "    left_on='Name',\n",
    "    right_index=True\n",
    ")\n",
    "rating_table.drop(['Name','Rating'], axis=1, inplace=True)\n",
    "rating_table"
   ]
  },
  {
   "cell_type": "markdown",
   "metadata": {},
   "source": [
    "\n",
    "Dot product to get the weight of rating on each category according to favorite"
   ]
  },
  {
   "cell_type": "code",
   "execution_count": 53,
   "metadata": {},
   "outputs": [
    {
     "ename": "NameError",
     "evalue": "name 'rating_table' is not defined",
     "output_type": "error",
     "traceback": [
      "\u001b[0;31m---------------------------------------------------------------------------\u001b[0m",
      "\u001b[0;31mNameError\u001b[0m                                 Traceback (most recent call last)",
      "\u001b[0;32m<ipython-input-53-a948eb5330a5>\u001b[0m in \u001b[0;36m<module>\u001b[0;34m\u001b[0m\n\u001b[0;32m----> 1\u001b[0;31m \u001b[0mprofile\u001b[0m \u001b[0;34m=\u001b[0m \u001b[0mrating_table\u001b[0m\u001b[0;34m.\u001b[0m\u001b[0mtranspose\u001b[0m\u001b[0;34m(\u001b[0m\u001b[0;34m)\u001b[0m\u001b[0;34m.\u001b[0m\u001b[0mdot\u001b[0m\u001b[0;34m(\u001b[0m\u001b[0mboss_favorite\u001b[0m\u001b[0;34m[\u001b[0m\u001b[0;34m'Rating'\u001b[0m\u001b[0;34m]\u001b[0m\u001b[0;34m)\u001b[0m\u001b[0;34m\u001b[0m\u001b[0;34m\u001b[0m\u001b[0m\n\u001b[0m",
      "\u001b[0;31mNameError\u001b[0m: name 'rating_table' is not defined"
     ]
    }
   ],
   "source": [
    "profile = rating_table.transpose().dot(boss_favorite['Rating'])"
   ]
  },
  {
   "cell_type": "code",
   "execution_count": null,
   "metadata": {},
   "outputs": [],
   "source": [
    "profile"
   ]
  },
  {
   "cell_type": "markdown",
   "metadata": {},
   "source": [
    "Normalize the values of target venues"
   ]
  },
  {
   "cell_type": "code",
   "execution_count": null,
   "metadata": {},
   "outputs": [],
   "source": [
    "\n",
    "df_targets_normalized = pd.DataFrame(\n",
    "    scaler.transform(df_target_venues_count),\n",
    "    index=df_target_venues_count.index,\n",
    "    columns=df_target_venues_count.columns\n",
    ")"
   ]
  },
  {
   "cell_type": "code",
   "execution_count": null,
   "metadata": {},
   "outputs": [],
   "source": [
    "df_targets_normalized"
   ]
  },
  {
   "cell_type": "markdown",
   "metadata": {},
   "source": [
    "\n",
    "<h4>Results</h4>\n",
    "Results section where you discuss the results.\n",
    "\n",
    "With the boss's profile and the complete list of cinemas and their venues count in hand, I am going to take the weighted average of every lcoation based on the profile and recommend the top location that most satisfy it."
   ]
  },
  {
   "cell_type": "code",
   "execution_count": null,
   "metadata": {},
   "outputs": [],
   "source": [
    "df_recommend = (df_targets_normalized*boss_profile).sum(axis=1)/boss_profile.sum()\n",
    "df_recommend = df_recommend.reset_index(name='Rating')"
   ]
  },
  {
   "cell_type": "code",
   "execution_count": null,
   "metadata": {},
   "outputs": [],
   "source": [
    "df_possible_locations"
   ]
  },
  {
   "cell_type": "code",
   "execution_count": null,
   "metadata": {},
   "outputs": [],
   "source": [
    "df_final = pd.merge(\n",
    "    df_possible_locations,\n",
    "    df_recommend,\n",
    "    left_on='Location',\n",
    "    right_on='Location'\n",
    ")\n",
    "df_final.sort_values('Rating', ascending=False, inplace=True)"
   ]
  },
  {
   "cell_type": "code",
   "execution_count": null,
   "metadata": {},
   "outputs": [],
   "source": [
    "df_final"
   ]
  },
  {
   "cell_type": "code",
   "execution_count": null,
   "metadata": {},
   "outputs": [],
   "source": [
    "print('I should recommend the location \"{}\" of address \"{}\" to the stackholder'.format(df_final.iat[0,0], df_final.iat[0,1]))"
   ]
  },
  {
   "cell_type": "markdown",
   "metadata": {},
   "source": [
    "The result is reasonable. Location \"L5\" has the most number of venues in category \"Bus Stop\", \"Food\", \"Metro Station\" and \"Shop & Service\"."
   ]
  },
  {
   "cell_type": "code",
   "execution_count": null,
   "metadata": {},
   "outputs": [],
   "source": [
    "df_target_venues_count.head()"
   ]
  },
  {
   "cell_type": "markdown",
   "metadata": {},
   "source": [
    "Moreover, these categories are most concerned by the stakeholder according to profile rating"
   ]
  },
  {
   "cell_type": "code",
   "execution_count": null,
   "metadata": {},
   "outputs": [],
   "source": [
    "boss_profile.sort_values(ascending=False)"
   ]
  },
  {
   "cell_type": "markdown",
   "metadata": {},
   "source": [
    "Therefore, Location \"L5\" should be recommeded to the stakehold"
   ]
  },
  {
   "cell_type": "markdown",
   "metadata": {},
   "source": [
    "<h5>Discussion</h5>\n",
    "\n",
    "\n",
    "Discussion section where you discuss any observations you noted and any recommendations you can make based on the results.\n",
    "\n",
    "Number of venues of 5 target locations are actually below the average"
   ]
  },
  {
   "cell_type": "markdown",
   "metadata": {},
   "source": [
    "\n",
    "df_venues_count.mean().to_frame(name='Average Count')"
   ]
  },
  {
   "cell_type": "code",
   "execution_count": null,
   "metadata": {},
   "outputs": [],
   "source": [
    "df_target_venues_count.mean().to_frame('Average Count')"
   ]
  },
  {
   "cell_type": "markdown",
   "metadata": {},
   "source": [
    "\n",
    "I should contact local commercial property agents to find more suitable locations. Moreover, FourSquare is not popular in Hong Kong, the data maybe out-dated or unreliable, the report should gather more data from other location data source such as Google Place API.\n",
    "\n",
    "<h2>Conclusion</h2>\n",
    "Conclusion section where you conclude the report.\n",
    "\n",
    "The stakeholder's problem is resolved. Stakeholder wants to find the best place to build a new cinema in Hong Kong, and the factors of \"best location\" is based on the number of venues in eating, shopping, transportation category around the location. Stakeholder also provide his favorite list of cinema to further explain what the \"best location\" is. Content-based filtering machine learning technique is the most suitable method to resolve the problem. It combines stakeholder's preference and cinema profile to make the recommendation result.\n",
    "\n",
    "The 5 target locations of new cinema may not be a good choices. As the weighting matrix is developed, I can quickly pick other locations and make the recommendation again."
   ]
  },
  {
   "cell_type": "code",
   "execution_count": null,
   "metadata": {},
   "outputs": [],
   "source": []
  }
 ],
 "metadata": {
  "kernelspec": {
   "display_name": "Python",
   "language": "python",
   "name": "conda-env-python-py"
  },
  "language_info": {
   "codemirror_mode": {
    "name": "ipython",
    "version": 3
   },
   "file_extension": ".py",
   "mimetype": "text/x-python",
   "name": "python",
   "nbconvert_exporter": "python",
   "pygments_lexer": "ipython3",
   "version": "3.6.7"
  }
 },
 "nbformat": 4,
 "nbformat_minor": 4
}
